{
 "cells": [
  {
   "cell_type": "code",
   "execution_count": 1,
   "metadata": {},
   "outputs": [
    {
     "name": "stdout",
     "output_type": "stream",
     "text": [
      "Created `%%clingo` as an alias for `%%script clingo --no-raise-error`.\n"
     ]
    }
   ],
   "source": [
    "%alias_magic clingo script -p \"clingo --no-raise-error\""
   ]
  },
  {
   "cell_type": "code",
   "execution_count": 2,
   "metadata": {},
   "outputs": [
    {
     "name": "stdout",
     "output_type": "stream",
     "text": [
      "assign(2,2) assign(1,3) assign(3,2) assign(4,1) assign(5,3) assign(6,1)\n",
      "assign(1,1) assign(2,2) assign(3,2) assign(4,3) assign(5,1) assign(6,3)\n",
      "assign(1,1) assign(2,3) assign(3,3) assign(4,2) assign(5,1) assign(6,2)\n",
      "assign(1,2) assign(2,3) assign(3,3) assign(4,1) assign(5,2) assign(6,1)\n",
      "assign(2,1) assign(1,3) assign(3,1) assign(4,2) assign(5,3) assign(6,2)\n",
      "assign(2,1) assign(1,2) assign(3,1) assign(4,3) assign(5,2) assign(6,3)\n",
      "SATISFIABLE\n"
     ]
    }
   ],
   "source": [
    "%%clingo -V0 0\n",
    "% Noeuds\n",
    "node(1..6).\n",
    "\n",
    "% Arêtes\n",
    "edge(1, 2).\n",
    "edge(1, 3).\n",
    "edge(1, 4).\n",
    "edge(2, 4).\n",
    "edge(2, 5).\n",
    "edge(2, 6).\n",
    "edge(3, 1).\n",
    "edge(3, 4).\n",
    "edge(3, 5).\n",
    "edge(4, 1).\n",
    "edge(4, 2).\n",
    "edge(5, 3).\n",
    "edge(5, 4).\n",
    "edge(5, 6).\n",
    "edge(6, 2).\n",
    "edge(6, 3).\n",
    "edge(6, 5).\n",
    "\n",
    "% Nombre de couleurs\n",
    "color(1..3).\n",
    "\n",
    "% Assignation : chaque noeud doit avoir une couleur\n",
    "{ assign(N, C) : color(C) } = 1 :- node(N).\n",
    "\n",
    "% Contrainte de coloriage : deux noeuds connectés par une arête ne peuvent pas avoir la même couleur\n",
    ":- edge(N1, N2), assign(N1, C), assign(N2, C).\n",
    "\n",
    "#show assign/2."
   ]
  },
  {
   "cell_type": "code",
   "execution_count": 3,
   "metadata": {},
   "outputs": [
    {
     "name": "stdout",
     "output_type": "stream",
     "text": [
      "assign(1,1) assign(2,2) assign(3,2) assign(4,3) assign(5,1) assign(6,3)\n",
      "assign(1,1) assign(4,2) assign(2,3) assign(3,3) assign(5,1) assign(6,2)\n",
      "assign(4,1) assign(1,2) assign(2,3) assign(3,3) assign(6,1) assign(5,2)\n",
      "assign(4,1) assign(2,2) assign(3,2) assign(1,3) assign(6,1) assign(5,3)\n",
      "assign(2,1) assign(3,1) assign(1,2) assign(4,3) assign(5,2) assign(6,3)\n",
      "assign(2,1) assign(3,1) assign(4,2) assign(1,3) assign(6,2) assign(5,3)\n",
      "SATISFIABLE\n"
     ]
    }
   ],
   "source": [
    "%%clingo -V0 0\n",
    "% Noeuds\n",
    "node(1..6).\n",
    "\n",
    "% Arêtes\n",
    "edge(1, 2).\n",
    "edge(1, 3).\n",
    "edge(1, 4).\n",
    "edge(2, 1).\n",
    "edge(2, 4).\n",
    "edge(2, 5).\n",
    "edge(2, 6).\n",
    "edge(3, 1).\n",
    "edge(3, 4).\n",
    "edge(3, 5).\n",
    "edge(3, 6).\n",
    "edge(4, 1).\n",
    "edge(4, 2).\n",
    "edge(4, 3).\n",
    "edge(4, 5).\n",
    "edge(5, 2).\n",
    "edge(5, 3).\n",
    "edge(5, 4).\n",
    "edge(5, 6).\n",
    "edge(6, 2).\n",
    "edge(6, 3).\n",
    "edge(6, 5).\n",
    "\n",
    "% Nombre de couleurs\n",
    "color(1..3).\n",
    "\n",
    "% Assignation : chaque noeud doit avoir une couleur\n",
    "{ assign(N, C) : color(C) } = 1 :- node(N).\n",
    "\n",
    "% Contrainte de coloriage : deux noeuds connectés par une arête ne peuvent pas avoir la même couleur\n",
    ":- edge(N1, N2), assign(N1, C), assign(N2, C).\n",
    "\n",
    "#show assign/2."
   ]
  },
  {
   "cell_type": "code",
   "execution_count": 4,
   "metadata": {},
   "outputs": [
    {
     "name": "stdout",
     "output_type": "stream",
     "text": [
      "assign(1,1) assign(2,2) assign(3,2) assign(4,3) assign(5,1) assign(6,3)\n",
      "assign(1,1) assign(4,2) assign(2,3) assign(3,3) assign(5,1) assign(6,2)\n",
      "assign(4,1) assign(1,2) assign(2,3) assign(3,3) assign(6,1) assign(5,2)\n",
      "assign(4,1) assign(2,2) assign(3,2) assign(1,3) assign(6,1) assign(5,3)\n",
      "assign(2,1) assign(3,1) assign(1,2) assign(4,3) assign(5,2) assign(6,3)\n",
      "assign(2,1) assign(3,1) assign(4,2) assign(1,3) assign(6,2) assign(5,3)\n",
      "SATISFIABLE\n"
     ]
    }
   ],
   "source": [
    "%%clingo -V0 0\n",
    "% Noeuds\n",
    "node(1..6).\n",
    "\n",
    "% Arêtes originales\n",
    "edge(1, 2).\n",
    "edge(1, 3).\n",
    "edge(1, 4).\n",
    "edge(2, 4).\n",
    "edge(2, 5).\n",
    "edge(2, 6).\n",
    "edge(3, 4).\n",
    "edge(3, 5).\n",
    "edge(3, 6).\n",
    "edge(4, 5).\n",
    "edge(5, 6).\n",
    "\n",
    "% Arêtes symétriques\n",
    "symmetric_edge(X, Y) :- edge(X, Y). % Conserver les arêtes d'origines\n",
    "symmetric_edge(Y, X) :- edge(X, Y), X < Y. % X < Y pour éviter les redondances\n",
    "\n",
    "% Nombre de couleurs\n",
    "color(1..3).\n",
    "\n",
    "% Assignation : chaque noeud doit avoir une couleur\n",
    "{ assign(N, C) : color(C) } = 1 :- node(N).\n",
    "\n",
    "% Contrainte de coloriage : deux noeuds connectés par une arête ne peuvent pas avoir la même couleur\n",
    ":- symmetric_edge(N1, N2), assign(N1, C), assign(N2, C).\n",
    "\n",
    "#show assign/2."
   ]
  }
 ],
 "metadata": {
  "kernelspec": {
   "display_name": ".venv",
   "language": "python",
   "name": "python3"
  },
  "language_info": {
   "codemirror_mode": {
    "name": "ipython",
    "version": 3
   },
   "file_extension": ".py",
   "mimetype": "text/x-python",
   "name": "python",
   "nbconvert_exporter": "python",
   "pygments_lexer": "ipython3",
   "version": "3.12.3"
  }
 },
 "nbformat": 4,
 "nbformat_minor": 2
}
