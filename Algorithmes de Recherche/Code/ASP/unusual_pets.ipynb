{
 "cells": [
  {
   "cell_type": "code",
   "execution_count": 1,
   "metadata": {},
   "outputs": [
    {
     "name": "stdout",
     "output_type": "stream",
     "text": [
      "Created `%%clingo` as an alias for `%%script clingo --no-raise-error`.\n"
     ]
    }
   ],
   "source": [
    "%alias_magic clingo script -p \"clingo --no-raise-error\""
   ]
  },
  {
   "cell_type": "code",
   "execution_count": 3,
   "metadata": {},
   "outputs": [
    {
     "name": "stdout",
     "output_type": "stream",
     "text": [
      "associate(chuck,foster,llama,norris) associate(duane,halevy,cobra,waggles) associate(bruce,engels,iguana,sparky) associate(abner,gunter,jackal,jingle)\n",
      "SATISFIABLE\n"
     ]
    }
   ],
   "source": [
    "%%clingo -V0 0\n",
    "\n",
    "% Owner first names\n",
    "firstname(chuck).\n",
    "firstname(duane).\n",
    "firstname(abner).\n",
    "firstname(bruce).\n",
    "\n",
    "% Owner last names\n",
    "lastname(engels).\n",
    "lastname(halevy).\n",
    "lastname(foster).\n",
    "lastname(gunter).\n",
    "\n",
    "% Pet species\n",
    "pet(iguana).\n",
    "pet(cobra).\n",
    "pet(jackal).\n",
    "pet(llama).\n",
    "\n",
    "% Pet names\n",
    "petname(norris).\n",
    "petname(waggles).\n",
    "petname(sparky).\n",
    "petname(jingle).\n",
    "\n",
    "% Four individuals own unusual pets\n",
    "4 {associate(A,B,C,D) : firstname(A), lastname(B), pet(C), petname(D)} 4.\n",
    "\n",
    "% All individuals have different names, different pets, and pets do not share names\n",
    ":- #count{ FirstName : associate(FirstName, LastName, Specie, PetName) } < 4.\n",
    ":- #count{ LastName : associate(FirstName, LastName, Specie, PetName) } < 4.\n",
    ":- #count{ Specie : associate(FirstName, LastName, Specie, PetName) } < 4.\n",
    ":- #count{ PetName : associate(FirstName, LastName, Specie, PetName) } < 4.\n",
    "\n",
    "% Mr. Engels pet is named Sparky\n",
    "1 {associate(A, engels, C, sparky) : firstname(A), pet(C)} 1.\n",
    "\n",
    "% The iguana is not owned by either Chuck or Duane\n",
    ":- associate(chuck, B, iguana, D), lastname(B), petname(D).\n",
    ":- associate(duane, B, iguana, D), lastname(B), petname(D).\n",
    "\n",
    "% Neither the jackal nor the king cobra is owned by Mr. Foster\n",
    ":- associate(A, foster, jackal, D), firstname(A), petname(D).\n",
    ":- associate(A, foster, cobra, D), firstname(A), petname(D).\n",
    "\n",
    "% The llama does not belong to Duane \n",
    ":- associate(duane, B, llama, D), lastname(B), petname(D).\n",
    "\n",
    "% Duane pet is named Waggles\n",
    "1 {associate(duane, B, C, waggles) : lastname(B), pet(C)} 1.\n",
    "\n",
    "% Abner does not own the king cobra\n",
    ":- associate(abner, B, cobra, D), lastname(B), petname(D).\n",
    "\n",
    "% Abner is Mr. Gunter\n",
    "1 {associate(abner, gunter, C, D) : pet(C), petname(D)} 1.\n",
    "\n",
    "% Bruce and Mr. Foster are neighbors\n",
    ":- associate(bruce, foster, C, D), pet(C), petname(D).\n",
    "\n",
    "% Mr. Halevy and Mr. Gunter are afraid of iguanas\n",
    ":- associate(A, halevy, iguana, D), firstname(A), petname(D).\n",
    ":- associate(A, gunter, iguana, D), firstname(A), petname(D).\n",
    "\n",
    "% The llama doesn't get along with Jingle\n",
    ":- associate(A, B, llama, jingle), firstname(A), lastname(B).\n",
    "\n",
    "% Display\n",
    "#show associate/4."
   ]
  }
 ],
 "metadata": {
  "kernelspec": {
   "display_name": ".venv",
   "language": "python",
   "name": "python3"
  },
  "language_info": {
   "codemirror_mode": {
    "name": "ipython",
    "version": 3
   },
   "file_extension": ".py",
   "mimetype": "text/x-python",
   "name": "python",
   "nbconvert_exporter": "python",
   "pygments_lexer": "ipython3",
   "version": "3.12.3"
  }
 },
 "nbformat": 4,
 "nbformat_minor": 2
}
