{
 "cells": [
  {
   "cell_type": "code",
   "execution_count": 1,
   "metadata": {},
   "outputs": [
    {
     "name": "stdout",
     "output_type": "stream",
     "text": [
      "Created `%%clingo` as an alias for `%%script clingo --no-raise-error`.\n"
     ]
    }
   ],
   "source": [
    "%alias_magic clingo script -p \"clingo --no-raise-error\""
   ]
  },
  {
   "cell_type": "code",
   "execution_count": 5,
   "metadata": {},
   "outputs": [
    {
     "name": "stdout",
     "output_type": "stream",
     "text": [
      "murder_weapon(revolver) murder_room(library)\n",
      "murder_weapon(revolver) murder_room(hall)\n",
      "murder_weapon(revolver) murder_room(study)\n",
      "murder_weapon(candlestick) murder_room(hall)\n",
      "murder_weapon(candlestick) murder_room(study)\n",
      "murder_weapon(candlestick) murder_room(library)\n",
      "murder_room(ballroom) murder_weapon(candlestick)\n",
      "SATISFIABLE\n"
     ]
    }
   ],
   "source": [
    "%%clingo -V0 0\n",
    "\n",
    "% Characters\n",
    "character(miss_scarlett).\n",
    "character(mr_green).\n",
    "character(colonel_mustard).\n",
    "character(professor_plum).\n",
    "character(mrs_peacock).\n",
    "character(mrs_white).\n",
    "\n",
    "% Gender\n",
    "female(miss_scarlett).\n",
    "female(professor_plum).\n",
    "female(mrs_peacock).\n",
    "female(mrs_white).\n",
    "\n",
    "male(mr_green).\n",
    "male(colonel_mustard).\n",
    "\n",
    "% Weapons\n",
    "weapon(candlestick).\n",
    "weapon(dagger).\n",
    "weapon(revolver).\n",
    "weapon(rope).\n",
    "\n",
    "% Rooms\n",
    "room(kitchen).\n",
    "room(library).\n",
    "room(ballroom).\n",
    "room(hall).\n",
    "room(study).\n",
    "\n",
    "% Exactly one character is the murderer\n",
    "1 { murderer(X) : character(X) } 1.\n",
    "\n",
    "% Exactly one weapon is used\n",
    "1 { murder_weapon(Y) : weapon(Y) } 1.\n",
    "\n",
    "% Exactly one room is where the murder happened\n",
    "1 { murder_room(Z) : room(Z) } 1.\n",
    "\n",
    "% Clues\n",
    "% If the room is the ballroom, the weapon is the candlestick.\n",
    ":- murder_room(ballroom), not murder_weapon(candlestick).\n",
    "\n",
    "% If the murderer is Mr. Green, the weapon is the rope.\n",
    ":- murderer(mr_green), not murder_weapon(rope).\n",
    "\n",
    "% If the murderer is Miss Scarlett, the weapon is either the revolver or the candlestick.\n",
    ":- murderer(miss_scarlett), not murder_weapon(revolver), not murder_weapon(candlestick).\n",
    "\n",
    "% If the murderer is a female, the crime did not happen in the kitchen.\n",
    ":- murderer(X), female(X), murder_room(kitchen).\n",
    "\n",
    "% There is no rope in the ballroom.\n",
    ":- murder_room(ballroom), murder_weapon(rope).\n",
    "\n",
    "% Scenario 1: Murderer is Miss Scarlett\n",
    "murderer(miss_scarlett).\n",
    "\n",
    "#show murder_weapon/1. \n",
    "#show murder_room/1."
   ]
  },
  {
   "cell_type": "code",
   "execution_count": 6,
   "metadata": {},
   "outputs": [
    {
     "name": "stdout",
     "output_type": "stream",
     "text": [
      "murder_weapon(rope) murder_room(library)\n",
      "murder_weapon(rope) murder_room(hall)\n",
      "murder_weapon(rope) murder_room(study)\n",
      "murder_weapon(rope) murder_room(kitchen)\n",
      "SATISFIABLE\n"
     ]
    }
   ],
   "source": [
    "%%clingo -V0 0\n",
    "\n",
    "% Characters\n",
    "character(miss_scarlett).\n",
    "character(mr_green).\n",
    "character(colonel_mustard).\n",
    "character(professor_plum).\n",
    "character(mrs_peacock).\n",
    "character(mrs_white).\n",
    "\n",
    "% Gender\n",
    "female(miss_scarlett).\n",
    "female(professor_plum).\n",
    "female(mrs_peacock).\n",
    "female(mrs_white).\n",
    "\n",
    "male(mr_green).\n",
    "male(colonel_mustard).\n",
    "\n",
    "% Weapons\n",
    "weapon(candlestick).\n",
    "weapon(dagger).\n",
    "weapon(revolver).\n",
    "weapon(rope).\n",
    "\n",
    "% Rooms\n",
    "room(kitchen).\n",
    "room(library).\n",
    "room(ballroom).\n",
    "room(hall).\n",
    "room(study).\n",
    "\n",
    "% Exactly one character is the murderer\n",
    "1 { murderer(X) : character(X) } 1.\n",
    "\n",
    "% Exactly one weapon is used\n",
    "1 { murder_weapon(Y) : weapon(Y) } 1.\n",
    "\n",
    "% Exactly one room is where the murder happened\n",
    "1 { murder_room(Z) : room(Z) } 1.\n",
    "\n",
    "% Clues\n",
    "% If the room is the ballroom, the weapon is the candlestick.\n",
    ":- murder_room(ballroom), not murder_weapon(candlestick).\n",
    "\n",
    "% If the murderer is Mr. Green, the weapon is the rope.\n",
    ":- murderer(mr_green), not murder_weapon(rope).\n",
    "\n",
    "% If the murderer is Miss Scarlett, the weapon is either the revolver or the candlestick.\n",
    ":- murderer(miss_scarlett), not murder_weapon(revolver), not murder_weapon(candlestick).\n",
    "\n",
    "% If the murderer is a female, the crime did not happen in the kitchen.\n",
    ":- murderer(X), female(X), murder_room(kitchen).\n",
    "\n",
    "% There is no rope in the ballroom.\n",
    ":- murder_room(ballroom), murder_weapon(rope).\n",
    "\n",
    "% Scenario 2: Murderer is Mr. Green\n",
    "murderer(mr_green).\n",
    "\n",
    "#show murder_weapon/1. \n",
    "#show murder_room/1."
   ]
  }
 ],
 "metadata": {
  "kernelspec": {
   "display_name": ".venv",
   "language": "python",
   "name": "python3"
  },
  "language_info": {
   "codemirror_mode": {
    "name": "ipython",
    "version": 3
   },
   "file_extension": ".py",
   "mimetype": "text/x-python",
   "name": "python",
   "nbconvert_exporter": "python",
   "pygments_lexer": "ipython3",
   "version": "3.12.3"
  }
 },
 "nbformat": 4,
 "nbformat_minor": 2
}
