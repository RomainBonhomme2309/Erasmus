{
 "cells": [
  {
   "cell_type": "markdown",
   "id": "e901acc5",
   "metadata": {},
   "source": [
    "# More modelling"
   ]
  },
  {
   "cell_type": "code",
   "execution_count": 1,
   "id": "92bdffe3",
   "metadata": {},
   "outputs": [
    {
     "name": "stdout",
     "output_type": "stream",
     "text": [
      "Created `%%clingo` as an alias for `%%script clingo --no-raise-error`.\n"
     ]
    }
   ],
   "source": [
    "%alias_magic clingo script -p \"clingo --no-raise-error\""
   ]
  },
  {
   "cell_type": "markdown",
   "id": "0ff8123e",
   "metadata": {},
   "source": [
    "## Queens"
   ]
  },
  {
   "cell_type": "markdown",
   "id": "859901d0",
   "metadata": {},
   "source": [
    "**Game**\n",
    "\n",
    "- Place n queens on an n x n chess board\n",
    "- Queens must not attack each other\n",
    "\n",
    "Example with n = 5\n",
    "<img src=\"nqueens.png\" width=250>\n",
    "\n",
    "**Rules**\n",
    "\n",
    "- Queens can attack horizontally and vertically \n",
    "- Queens can attack diagonally\n",
    "\n",
    "**Task**\n",
    "Encode the n-queens problem. "
   ]
  },
  {
   "cell_type": "code",
   "execution_count": null,
   "id": "70754b1a",
   "metadata": {},
   "outputs": [],
   "source": [
    "%%clingo -c n=5 -V0 0\n",
    "\n",
    "% generate the grid\n",
    "\n",
    "\n",
    "% generate solutions\n",
    "\n",
    "\n",
    "% one assignment by queen\n",
    "\n",
    "    \n",
    "% forbid horizontal and vertical attacks\n",
    "\n",
    "\n",
    "% forbid diagonal attacks\n",
    "\n",
    "\n",
    "#show queen/2."
   ]
  },
  {
   "cell_type": "markdown",
   "id": "18f8dc7f",
   "metadata": {},
   "source": [
    "## Sudoku"
   ]
  },
  {
   "cell_type": "markdown",
   "id": "6c5543c3",
   "metadata": {},
   "source": [
    "The aim of the Sudoku game is to fill a grid of numbers of size n\\*n while ensuring that:\n",
    "\n",
    "- Each number occurs in a row only once\n",
    "- Each number occurs in a column only once\n",
    "- Each number occurs in a subgrid of size n/2 x n/2 only once\n",
    "\n",
    "Input consists in a partially filled grid. \n",
    "\n",
    "### A 4X4 example\n",
    "\n",
    "<img src=\"sudoku_4x4.png\" width=550>\n",
    "\n",
    "**Note** There is a single solution to this instance of sudoku"
   ]
  },
  {
   "cell_type": "code",
   "execution_count": null,
   "id": "f2edcf14",
   "metadata": {},
   "outputs": [],
   "source": [
    "%%file instances/TP5_sudoku_4x4.lp\n",
    "% initial values of the grid\n",
    "initial(1,1,1).\n",
    "initial(2,2,4).\n",
    "initial(3,4,3).\n",
    "initial(4,1,2). \n",
    "initial(4,4,1)."
   ]
  },
  {
   "cell_type": "code",
   "execution_count": null,
   "id": "b56e81dc",
   "metadata": {},
   "outputs": [],
   "source": [
    "%%clingo -V0 instances/TP5_sudoku_4x4.lp -\n",
    "% we print a single solution to ease computation\n",
    "\n",
    "% your encoding goes here...\n",
    "\n",
    "#show sudoku/3."
   ]
  },
  {
   "cell_type": "markdown",
   "id": "866c9314",
   "metadata": {},
   "source": [
    "### A 9X9 example\n",
    "<img src=\"sudoku.png\" width=550>"
   ]
  },
  {
   "cell_type": "code",
   "execution_count": null,
   "id": "2b188f8c",
   "metadata": {},
   "outputs": [],
   "source": [
    "%%file instances/TP5_sudoku_9x9.lp\n",
    "% initial values of the grid\n",
    "initial(1,1,5). initial(1,2,3). initial(1,5,7).\n",
    "initial(2,1,6). initial(2,4,1). initial(2,5,9). initial(2,6,5).\n",
    "initial(3,2,9). initial(3,3,8). initial(3,8,6).\n",
    "initial(4,1,8). initial(4,5,6). initial(4,9,3).\n",
    "initial(5,1,4). initial(5,4,8). initial(5,6,3). initial(5,9,1).\n",
    "initial(6,1,7). initial(6,5,2). initial(6,9,6).\n",
    "initial(7,2,6). initial(7,7,2). initial(7,8,8).\n",
    "initial(8,4,4). initial(8,5,1). initial(8,6,9). initial(8,9,5).\n",
    "initial(9,5,8). initial(9,8,7). initial(9,9,9)."
   ]
  },
  {
   "cell_type": "code",
   "execution_count": null,
   "id": "2d42d904",
   "metadata": {},
   "outputs": [],
   "source": [
    "%%clingo -V0 instances/TP5_sudoku_9x9.lp -\n",
    "% we print a single solution to ease computation\n",
    "\n",
    "% your encoding goes here...\n",
    "\n",
    "#show sudoku/3.\n"
   ]
  },
  {
   "cell_type": "markdown",
   "id": "22917576",
   "metadata": {},
   "source": [
    "# Problems with optimisation"
   ]
  },
  {
   "cell_type": "markdown",
   "id": "b0103896",
   "metadata": {},
   "source": [
    "## Reviewer "
   ]
  },
  {
   "cell_type": "markdown",
   "id": "c02c6711",
   "metadata": {},
   "source": [
    "**Assign the papers to reviewers such that:**\n",
    "\n",
    "- a reviewer who declared a conflict of interest with a paper cannot be attributed that paper\n",
    "- each paper is reviewed by 2 reviewers\n",
    "- a reviewer cannot have 5 or more papers\n",
    "\n",
    "**Perform the following optimisation:**\n",
    "\n",
    "Maximise the assignment of papers to reviewers who declared them as preferred\n",
    "\n",
    "**Count the number of papers by reviewer**"
   ]
  },
  {
   "cell_type": "code",
   "execution_count": 10,
   "id": "c260620b",
   "metadata": {},
   "outputs": [
    {
     "name": "stdout",
     "output_type": "stream",
     "text": [
      "assigned(r1,p6) assigned(r1,p7) assigned(r1,p8) assigned(r1,p9) papers_per_reviewer(r1,4) assigned(r2,p3) assigned(r2,p7) assigned(r2,p8) assigned(r2,p9) papers_per_reviewer(r2,4) assigned(r3,p3) assigned(r3,p6) papers_per_reviewer(r3,2) assigned(r4,p1) assigned(r4,p2) assigned(r4,p4) assigned(r4,p5) papers_per_reviewer(r4,4) assigned(r5,p1) assigned(r5,p2) assigned(r5,p4) assigned(r5,p5) papers_per_reviewer(r5,4)\n",
      "Optimization: -4\n",
      "assigned(r1,p7) assigned(r1,p8) assigned(r1,p9) papers_per_reviewer(r1,3) assigned(r2,p3) assigned(r2,p4) assigned(r2,p7) assigned(r2,p9) papers_per_reviewer(r2,4) assigned(r3,p3) assigned(r3,p6) assigned(r3,p8) papers_per_reviewer(r3,3) assigned(r4,p1) assigned(r4,p2) assigned(r4,p4) assigned(r4,p5) papers_per_reviewer(r4,4) assigned(r5,p1) assigned(r5,p2) assigned(r5,p5) assigned(r5,p6) papers_per_reviewer(r5,4)\n",
      "Optimization: -5\n",
      "assigned(r1,p6) assigned(r1,p7) assigned(r1,p8) assigned(r1,p9) papers_per_reviewer(r1,4) assigned(r2,p3) assigned(r2,p4) assigned(r2,p7) assigned(r2,p8) papers_per_reviewer(r2,4) assigned(r3,p3) assigned(r3,p6) papers_per_reviewer(r3,2) assigned(r4,p1) assigned(r4,p2) assigned(r4,p4) assigned(r4,p5) papers_per_reviewer(r4,4) assigned(r5,p1) assigned(r5,p2) assigned(r5,p5) assigned(r5,p9) papers_per_reviewer(r5,4)\n",
      "Optimization: -6\n",
      "assigned(r1,p1) assigned(r1,p6) assigned(r1,p8) assigned(r1,p9) papers_per_reviewer(r1,4) assigned(r2,p3) assigned(r2,p4) assigned(r2,p7) assigned(r2,p9) papers_per_reviewer(r2,4) assigned(r3,p3) assigned(r3,p6) papers_per_reviewer(r3,2) assigned(r4,p2) assigned(r4,p5) assigned(r4,p7) assigned(r4,p8) papers_per_reviewer(r4,4) assigned(r5,p1) assigned(r5,p2) assigned(r5,p4) assigned(r5,p5) papers_per_reviewer(r5,4)\n",
      "Optimization: -8\n",
      "assigned(r1,p1) assigned(r1,p2) assigned(r1,p8) assigned(r1,p9) papers_per_reviewer(r1,4) assigned(r2,p3) assigned(r2,p4) assigned(r2,p7) assigned(r2,p8) papers_per_reviewer(r2,4) assigned(r3,p3) assigned(r3,p6) papers_per_reviewer(r3,2) assigned(r4,p2) assigned(r4,p4) assigned(r4,p5) assigned(r4,p7) papers_per_reviewer(r4,4) assigned(r5,p1) assigned(r5,p5) assigned(r5,p6) assigned(r5,p9) papers_per_reviewer(r5,4)\n",
      "Optimization: -9\n",
      "assigned(r1,p1) assigned(r1,p2) assigned(r1,p6) assigned(r1,p9) papers_per_reviewer(r1,4) assigned(r2,p3) assigned(r2,p4) assigned(r2,p7) assigned(r2,p8) papers_per_reviewer(r2,4) assigned(r3,p3) assigned(r3,p6) papers_per_reviewer(r3,2) assigned(r4,p2) assigned(r4,p5) assigned(r4,p7) assigned(r4,p8) papers_per_reviewer(r4,4) assigned(r5,p1) assigned(r5,p4) assigned(r5,p5) assigned(r5,p9) papers_per_reviewer(r5,4)\n",
      "Optimization: -10\n",
      "assigned(r1,p1) assigned(r1,p2) assigned(r1,p5) assigned(r1,p9) papers_per_reviewer(r1,4) assigned(r2,p3) assigned(r2,p4) assigned(r2,p7) assigned(r2,p9) papers_per_reviewer(r2,4) assigned(r3,p1) assigned(r3,p6) papers_per_reviewer(r3,2) assigned(r4,p2) assigned(r4,p4) assigned(r4,p7) assigned(r4,p8) papers_per_reviewer(r4,4) assigned(r5,p3) assigned(r5,p5) assigned(r5,p6) assigned(r5,p8) papers_per_reviewer(r5,4)\n",
      "Optimization: -11\n",
      "assigned(r1,p1) assigned(r1,p2) assigned(r1,p6) assigned(r1,p9) papers_per_reviewer(r1,4) assigned(r2,p3) assigned(r2,p4) papers_per_reviewer(r2,2) assigned(r3,p1) assigned(r3,p4) assigned(r3,p6) assigned(r3,p7) papers_per_reviewer(r3,4) assigned(r4,p2) assigned(r4,p5) assigned(r4,p7) assigned(r4,p8) papers_per_reviewer(r4,4) assigned(r5,p3) assigned(r5,p5) assigned(r5,p8) assigned(r5,p9) papers_per_reviewer(r5,4)\n",
      "Optimization: -12\n",
      "assigned(r1,p1) assigned(r1,p2) assigned(r1,p6) assigned(r1,p9) papers_per_reviewer(r1,4) assigned(r2,p3) assigned(r2,p4) assigned(r2,p5) assigned(r2,p7) papers_per_reviewer(r2,4) assigned(r3,p1) assigned(r3,p4) assigned(r3,p5) assigned(r3,p6) papers_per_reviewer(r3,4) assigned(r4,p2) assigned(r4,p7) assigned(r4,p8) papers_per_reviewer(r4,3) assigned(r5,p3) assigned(r5,p8) assigned(r5,p9) papers_per_reviewer(r5,3)\n",
      "Optimization: -13\n",
      "OPTIMUM FOUND\n"
     ]
    }
   ],
   "source": [
    "%%clingo -V0 0\n",
    "% papers\n",
    "paper(p1). paper(p2).  paper(p3). paper(p4). paper(p5). paper(p6). \n",
    "paper(p7). paper(p8).  paper(p9).\n",
    "\n",
    "% reviewers + their preferences\n",
    "reviewer(r1). pref(r1,p1). pref(r1,p2). pref(r1,p9).\n",
    "reviewer(r2). pref(r2,p3). pref(r2,p4). \n",
    "reviewer(r3). pref(r3,p5). pref(r3,p6).\n",
    "reviewer(r4). pref(r4,p7). pref(r4,p8). pref(r4,p2).\n",
    "reviewer(r5). pref(r5,p9). pref(r5,p8). pref(r5,p3).\n",
    "\n",
    "% conflicts of interest\n",
    "coi(r1,p3).\n",
    "coi(r2,p6).\n",
    "coi(r3,p9).\n",
    "\n",
    "% Each paper is reviewed by exactly 2 reviewers.\n",
    "{assigned(R, P) : reviewer(R)} = 2 :- paper(P).\n",
    "\n",
    "% No conflicts of interest\n",
    ":- assigned(R, P), coi(R, P).\n",
    "\n",
    "% Reviewer cannot review more than 4 papers\n",
    ":- 5 {assigned(R, _) : paper(_)}, reviewer(R).\n",
    "\n",
    "% Maximize the preferences\n",
    "#maximize {1, R, P : assigned(R, P), pref(R, P)}.\n",
    "\n",
    "% Count the number of papers per reviewer\n",
    "papers_per_reviewer(R, Count) :- reviewer(R), Count = #count { P : assigned(R, P) }.\n",
    "\n",
    "% Show results\n",
    "#show assigned/2.\n",
    "#show papers_per_reviewer/2."
   ]
  },
  {
   "cell_type": "code",
   "execution_count": 18,
   "id": "1a0816f9",
   "metadata": {},
   "outputs": [
    {
     "name": "stdout",
     "output_type": "stream",
     "text": [
      "totalglad(0) read(r1,p4) read(r1,p5) read(r2,p2) read(r2,p5) read(r2,p7) read(r2,p8) read(r2,p9) read(r3,p1) read(r3,p2) read(r3,p3) read(r3,p4) read(r3,p8) read(r4,p1) read(r4,p3) read(r4,p6) read(r4,p9) read(r5,p6) read(r5,p7)\n",
      "Optimization: 0\n",
      "read(r3,p6) totalglad(1) read(r1,p4) read(r1,p5) read(r1,p6) read(r2,p2) read(r2,p5) read(r2,p7) read(r2,p8) read(r2,p9) read(r3,p1) read(r3,p2) read(r3,p3) read(r3,p8) read(r4,p1) read(r4,p3) read(r4,p9) read(r5,p4) read(r5,p7)\n",
      "Optimization: -1\n",
      "read(r3,p6) read(r5,p3) totalglad(2) read(r1,p5) read(r2,p2) read(r2,p5) read(r2,p7) read(r2,p8) read(r2,p9) read(r3,p1) read(r3,p2) read(r3,p4) read(r3,p8) read(r4,p1) read(r4,p3) read(r4,p6) read(r4,p9) read(r5,p4) read(r5,p7)\n",
      "Optimization: -2\n",
      "read(r1,p9) read(r3,p6) read(r5,p3) totalglad(3) read(r1,p5) read(r2,p5) read(r2,p7) read(r2,p8) read(r3,p1) read(r3,p2) read(r3,p4) read(r3,p8) read(r4,p1) read(r4,p3) read(r4,p9) read(r5,p2) read(r5,p4) read(r5,p6) read(r5,p7)\n",
      "Optimization: -3\n",
      "read(r1,p9) read(r3,p6) read(r5,p9) read(r5,p3) totalglad(4) read(r1,p5) read(r2,p5) read(r2,p7) read(r2,p8) read(r3,p1) read(r3,p2) read(r3,p4) read(r3,p8) read(r4,p1) read(r4,p3) read(r4,p4) read(r5,p2) read(r5,p6) read(r5,p7)\n",
      "Optimization: -4\n",
      "read(r1,p9) read(r2,p3) read(r3,p6) read(r5,p9) read(r5,p3) totalglad(5) read(r1,p4) read(r1,p5) read(r2,p7) read(r2,p8) read(r3,p1) read(r3,p2) read(r3,p4) read(r3,p8) read(r4,p5) read(r4,p6) read(r5,p1) read(r5,p2) read(r5,p7)\n",
      "Optimization: -5\n",
      "read(r1,p9) read(r2,p3) read(r3,p6) read(r5,p9) read(r5,p8) read(r5,p3) totalglad(6) read(r1,p4) read(r2,p1) read(r2,p7) read(r3,p2) read(r3,p4) read(r3,p7) read(r3,p8) read(r4,p1) read(r4,p5) read(r4,p6) read(r5,p2) read(r5,p5)\n",
      "Optimization: -6\n",
      "read(r1,p9) read(r2,p3) read(r3,p5) read(r3,p6) read(r5,p9) read(r5,p8) read(r5,p3) totalglad(7) read(r1,p7) read(r1,p8) read(r2,p1) read(r2,p2) read(r2,p7) read(r3,p4) read(r4,p1) read(r4,p4) read(r4,p6) read(r5,p2) read(r5,p5)\n",
      "Optimization: -7\n",
      "read(r1,p9) read(r2,p3) read(r3,p5) read(r3,p6) read(r4,p2) read(r5,p9) read(r5,p8) read(r5,p3) totalglad(8) read(r1,p6) read(r1,p7) read(r1,p8) read(r3,p1) read(r3,p2) read(r3,p4) read(r4,p1) read(r4,p5) read(r5,p4) read(r5,p7)\n",
      "Optimization: -8\n",
      "read(r1,p1) read(r1,p2) read(r1,p9) read(r2,p4) read(r3,p5) read(r3,p6) read(r4,p7) read(r4,p8) read(r4,p2) read(r5,p9) totalglad(10) read(r2,p5) read(r2,p8) read(r3,p3) read(r4,p1) read(r4,p3) read(r5,p4) read(r5,p6) read(r5,p7)\n",
      "Optimization: -10\n",
      "read(r1,p1) read(r1,p2) read(r1,p9) read(r2,p4) read(r3,p5) read(r3,p6) read(r4,p7) read(r4,p8) read(r4,p2) read(r5,p9) read(r5,p3) totalglad(11) read(r2,p5) read(r2,p8) read(r4,p3) read(r4,p6) read(r5,p1) read(r5,p4) read(r5,p7)\n",
      "Optimization: -11\n",
      "read(r1,p1) read(r1,p2) read(r1,p9) read(r2,p4) read(r3,p5) read(r3,p6) read(r4,p7) read(r4,p8) read(r4,p2) read(r5,p9) read(r5,p8) read(r5,p3) totalglad(12) read(r1,p7) read(r2,p5) read(r3,p3) read(r3,p4) read(r4,p6) read(r5,p1)\n",
      "Optimization: -12\n",
      "read(r1,p1) read(r1,p2) read(r1,p9) read(r2,p3) read(r2,p4) read(r3,p5) read(r3,p6) read(r4,p7) read(r4,p8) read(r4,p2) read(r5,p9) read(r5,p8) read(r5,p3) totalglad(13) read(r1,p5) read(r3,p4) read(r4,p6) read(r5,p1) read(r5,p7)\n",
      "Optimization: -13\n",
      "OPTIMUM FOUND\n"
     ]
    }
   ],
   "source": [
    "%%clingo -V0 0\n",
    "% papers\n",
    "paper(p1). paper(p2). paper(p3). paper(p4). \n",
    "paper(p5). paper(p6). paper(p7). paper(p8). paper(p9).\n",
    "\n",
    "% reviewers + their preferences\n",
    "reviewer(r1). pref(r1,p1). pref(r1,p2). pref(r1,p9).\n",
    "reviewer(r2). pref(r2,p3). pref(r2,p4).\n",
    "reviewer(r3). pref(r3,p5). pref(r3,p6).\n",
    "reviewer(r4). pref(r4,p7). pref(r4,p8). pref(r4,p2).\n",
    "reviewer(r5). pref(r5,p9). pref(r5,p8). pref(r5,p3).\n",
    "\n",
    "% conflicts of interest\n",
    "coi(r1,p3).\n",
    "coi(r2,p6).\n",
    "coi(r3,p9).\n",
    "\n",
    "% each paper is reviewed by 2 reviewers\n",
    "2 {read(R, P) : reviewer(R) } 2:- paper(P).\n",
    "\n",
    "% reviewer who declared a conflict of interest with a paper cannot be attributed that paper\n",
    ":- coi(R, P), read(R, P).\n",
    "\n",
    ":- #count{P : read(R, P)} > 5, reviewer(R).\n",
    "\n",
    "totalglad(G) :- G = #count{R, P : pref(R, P), read(R, P)}.\n",
    "#maximize {G : totalglad(G)}.\n",
    "\n",
    "#show totalglad/1.\n",
    "#show read/2."
   ]
  },
  {
   "cell_type": "markdown",
   "id": "5007e789",
   "metadata": {},
   "source": [
    "## Knapsack problem"
   ]
  },
  {
   "cell_type": "markdown",
   "id": "9ec2f63e",
   "metadata": {},
   "source": [
    "The knapsack problem is a famous one: how to maximise the valuable items in a knapsack while keeping its weight under a limit?"
   ]
  },
  {
   "cell_type": "code",
   "execution_count": 28,
   "id": "f8496c0b",
   "metadata": {},
   "outputs": [
    {
     "name": "stdout",
     "output_type": "stream",
     "text": [
      "total_weight(0)\n",
      "Optimization: 0\n",
      "take(lighter) total_weight(100)\n",
      "Optimization: -10\n",
      "take(knife) total_weight(100)\n",
      "Optimization: -12\n",
      "take(lighter) take(knife) total_weight(100)\n",
      "Optimization: -22\n",
      "take(food) take(book) take(shoes) take(knife) total_weight(600)\n",
      "Optimization: -30\n",
      "take(food) take(book) take(shoes) take(lighter) take(knife) total_weight(600)\n",
      "Optimization: -40\n",
      "take(rope) take(clothes) take(book) take(shoes) take(lighter) take(knife) total_weight(1600)\n",
      "Optimization: -46\n",
      "take(rope) take(clothes) take(food) take(shoes) take(lighter) take(knife) total_weight(1600)\n",
      "Optimization: -52\n",
      "take(rope) take(water) take(shoes) take(lighter) take(knife) total_weight(3100)\n",
      "Optimization: -54\n",
      "take(rope) take(water) take(food) take(lighter) take(knife) total_weight(3100)\n",
      "Optimization: -60\n",
      "take(water) take(food) take(book) take(shoes) take(lighter) take(knife) total_weight(2100)\n",
      "Optimization: -60\n",
      "take(clothes) take(water) take(food) take(lighter) take(knife) total_weight(3100)\n",
      "Optimization: -60\n",
      "take(rope) take(water) take(food) take(lighter) take(knife) total_weight(3100)\n",
      "Optimization: -60\n",
      "OPTIMUM FOUND\n"
     ]
    }
   ],
   "source": [
    "%%clingo -V0 --opt-mode=optN\n",
    "\n",
    "#const maxweight=3500.\n",
    "\n",
    "weight(rope, 1000). value(rope, 8).\n",
    "weight(clothes, 1000). value(clothes, 8).\n",
    "weight(water, 1500). value(water, 20).\n",
    "weight(food, 500). value(food, 10).\n",
    "weight(book, 500). value(book, 4).\n",
    "weight(shoes, 500). value(shoes, 4).\n",
    "weight(lighter, 100). value(lighter, 10).\n",
    "weight(knife, 100). value(knife, 12).\n",
    "\n",
    "{ take(Name)} :- weight(Name, _) .\n",
    "\n",
    "\n",
    "#maximize { Price, Name : take(Name), value(Name, Price) }.\n",
    ":- #sum{ Weight, Name : take(Name), weight(Name,Weight) } > maxweight.\n",
    "\n",
    "total_weight(S) :- S = #sum{ Weight : take(Name), weight(Name,Weight) }.\n",
    "\n",
    "\n",
    "#show take/1.\n",
    "#show total_weight/1."
   ]
  },
  {
   "cell_type": "markdown",
   "id": "f12f969b",
   "metadata": {},
   "source": [
    "## Trip planning"
   ]
  },
  {
   "cell_type": "markdown",
   "id": "e9c78702",
   "metadata": {},
   "source": [
    "You want to plan a trip in either: Greece, Chile, Germany, France or Australia.\n",
    "\n",
    "Plane tickets cost:\n",
    "- 500€ for Greece\n",
    "- 1500€ for Chile or Australia\n",
    "- 50€ for France or Germany\n",
    "\n",
    "You are more or less excited by the destination with the following level of enthusiasm:\n",
    "- 5 for Chile and Greece\n",
    "- 3 for Australia (very much afraid of spyders)\n",
    "- 2 for Germany\n",
    "- 1 for France\n",
    "\n",
    "Write a program optimising the choice of trip by\n",
    "1. minimising the price\n",
    "2. maximising the enthusiasm\n",
    "\n",
    "Test the impact of the lexicographic order on the stable models."
   ]
  },
  {
   "cell_type": "code",
   "execution_count": 4,
   "id": "e3cd67d9",
   "metadata": {},
   "outputs": [
    {
     "name": "stdout",
     "output_type": "stream",
     "text": [
      "choose(france)\n",
      "Optimization: 49\n",
      "choose(germany)\n",
      "Optimization: 48\n",
      "OPTIMUM FOUND\n"
     ]
    }
   ],
   "source": [
    "%%clingo -V0 0\n",
    "\n",
    "% instance\n",
    "ticket(greece, 500).\n",
    "ticket(chile, 1500).\n",
    "ticket(australia, 1500).\n",
    "ticket(france, 50).\n",
    "ticket(germany, 50).\n",
    "\n",
    "excitement(greece, 5).\n",
    "excitement(chile, 5).\n",
    "excitement(australia, 5).\n",
    "excitement(germany, 2).\n",
    "excitement(france, 1).\n",
    "\n",
    "% Choose exactly one destination\n",
    "{ choose(Destination) : ticket(Destination, _) } = 1.\n",
    "\n",
    "% Calculate cost and excitement for the chosen destination\n",
    "cost(Cost) :- choose(Destination), ticket(Destination, Cost).\n",
    "enthusiasm(Excitement) :- choose(Destination), excitement(Destination, Excitement).\n",
    "\n",
    "% First minimize cost, then maximize enthusiasm\n",
    "#minimize { Cost : cost(Cost) }.\n",
    "#maximize { Excitement : enthusiasm(Excitement) }.\n",
    "\n",
    "#show choose/1."
   ]
  },
  {
   "cell_type": "markdown",
   "id": "8f8f1557",
   "metadata": {},
   "source": [
    "## The Traveling Salesprerson Problem (TSP)"
   ]
  },
  {
   "cell_type": "markdown",
   "id": "21493b3f",
   "metadata": {},
   "source": [
    "**Problem Instance:**\n",
    "\n",
    "A set of cities and distances among them.\n",
    "\n",
    "**Problem Class:**\n",
    "\n",
    "What is the shortest possible route visiting each city once and returning to the city of origin?\n",
    "\n",
    "**Note:**\n",
    "\n",
    "The TSP extends the Hamiltonian cycle problem:\n",
    "Is there a cycle in a graph visiting each node exactly once\n",
    "\n",
    "The TSP is relevant to applications in logistics, planning, chip design, and the core of the vehicle routing problem\n",
    "\n",
    "**Task**\n",
    "Solve the TSP by assuming that if a road exist between city 1 and city 2, a road between city 2 and city 1 exists with the same distance. "
   ]
  },
  {
   "cell_type": "code",
   "execution_count": 25,
   "id": "2ab6f60d",
   "metadata": {},
   "outputs": [
    {
     "name": "stdout",
     "output_type": "stream",
     "text": [
      "tour(bordeaux,rennes) tour(rennes,lyon) tour(marseille,paris) tour(paris,lyon) tour(lyon,marseille) total_distance(2660)\n",
      "Optimization: 2660\n",
      "tour(bordeaux,rennes) tour(rennes,paris) tour(paris,lyon) tour(marseille,rennes) tour(lyon,marseille) total_distance(2560)\n",
      "Optimization: 2560\n",
      "tour(bordeaux,lyon) tour(marseille,paris) tour(rennes,bordeaux) tour(paris,rennes) tour(lyon,marseille) total_distance(2400)\n",
      "Optimization: 2400\n",
      "tour(bordeaux,rennes) tour(rennes,paris) tour(paris,lyon) tour(marseille,bordeaux) tour(lyon,marseille) total_distance(2210)\n",
      "Optimization: 2210\n",
      "OPTIMUM FOUND\n"
     ]
    }
   ],
   "source": [
    "%%clingo -V0 0\n",
    "\n",
    "city(bordeaux). \n",
    "city(rennes). \n",
    "city(paris). \n",
    "city(lyon).\n",
    "city(marseille).\n",
    "\n",
    "road(bordeaux,paris,580).\n",
    "road(bordeaux,marseille,650).\n",
    "road(bordeaux,lyon,550).\n",
    "road(bordeaux,rennes,450).\n",
    "\n",
    "road(rennes,paris,350).\n",
    "road(rennes,marseille,1000).\n",
    "road(rennes,lyon,700).\n",
    "\n",
    "road(marseille,lyon,300).\n",
    "road(marseille,paris,750).\n",
    "\n",
    "road(paris,lyon,460).\n",
    "\n",
    "start(bordeaux).\n",
    "\n",
    "% Define sym_roads (bidirectional)\n",
    "sym_road(X, Y, D) :- road(X, Y, D).\n",
    "sym_road(Y, X, D) :- road(X, Y, D).\n",
    "\n",
    "% Path variables: \"tour(X, Y)\" is true if there's a path from X to Y\n",
    "1 { tour(X, Y) : sym_road(X, Y, _) } 1 :- city(X), X != start.\n",
    "\n",
    "% Ensure no bidirectional tour\n",
    ":- tour(X, Y), tour(Y, X), X != Y.\n",
    "\n",
    "% Ensure every city is visited exactly once\n",
    "visited(X) :- tour(X, _).\n",
    "visited(X) :- tour(_, X).\n",
    ":- city(X), not visited(X).\n",
    "\n",
    "% No self-loops\n",
    ":- tour(X, X).\n",
    "\n",
    "% Ensure the tour forms a single cycle\n",
    "reachable(X) :- start(X).\n",
    "reachable(Y) :- reachable(X), tour(X, Y).\n",
    ":- city(X), not reachable(X).\n",
    "\n",
    "% Constraints to eliminate invalid tours\n",
    ":- not reachable(bordeaux).\n",
    "\n",
    "% Calculate the total distance of the tour\n",
    "distance(D) :- tour(X, Y), sym_road(X, Y, D).\n",
    "total_distance(Total) :- Total = #sum { D : distance(D) }.\n",
    "\n",
    "#minimize { D : total_distance(D) }.\n",
    "\n",
    "% Display the tour and the total distance\n",
    "#show tour/2.\n",
    "#show total_distance/1."
   ]
  },
  {
   "cell_type": "code",
   "execution_count": 26,
   "id": "51273aa6",
   "metadata": {},
   "outputs": [
    {
     "name": "stdout",
     "output_type": "stream",
     "text": [
      "start(bordeaux) path(bordeaux,paris) path(rennes,lyon) path(marseille,rennes) path(paris,marseille) path(lyon,bordeaux)\n",
      "Optimization: 3580\n",
      "start(bordeaux) path(bordeaux,rennes) path(rennes,marseille) path(marseille,paris) path(paris,lyon) path(lyon,bordeaux)\n",
      "Optimization: 3210\n",
      "start(bordeaux) path(bordeaux,paris) path(lyon,rennes) path(marseille,lyon) path(paris,marseille) path(rennes,bordeaux)\n",
      "Optimization: 2780\n",
      "start(bordeaux) path(bordeaux,paris) path(rennes,lyon) path(lyon,marseille) path(paris,rennes) path(marseille,bordeaux)\n",
      "Optimization: 2580\n",
      "start(bordeaux) path(bordeaux,lyon) path(lyon,marseille) path(marseille,paris) path(paris,rennes) path(rennes,bordeaux)\n",
      "Optimization: 2400\n",
      "start(bordeaux) path(bordeaux,marseille) path(lyon,paris) path(marseille,lyon) path(paris,rennes) path(rennes,bordeaux)\n",
      "Optimization: 2210\n",
      "OPTIMUM FOUND\n"
     ]
    }
   ],
   "source": [
    "%%clingo -V0 0\n",
    "\n",
    "city(bordeaux). \n",
    "city(rennes). \n",
    "city(paris). \n",
    "city(lyon).\n",
    "city(marseille).\n",
    "\n",
    "road(bordeaux,paris,580).\n",
    "road(bordeaux,marseille,650).\n",
    "road(bordeaux,lyon,550).\n",
    "road(bordeaux,rennes,450).\n",
    "\n",
    "road(rennes,paris,350).\n",
    "road(rennes,marseille,1000).\n",
    "road(rennes,lyon,700).\n",
    "\n",
    "road(marseille,lyon,300).\n",
    "road(marseille,paris,750).\n",
    "\n",
    "road(paris,lyon,460).\n",
    "\n",
    "start(bordeaux).\n",
    "\n",
    "%symétrie \n",
    "road(C1,C2,D) :- road(C2,C1,D).\n",
    "\n",
    "1 { path(X,Y) : road(X,Y,_) } 1 :- city(X) .\n",
    "\n",
    "1 { path(X,Y) : road(X,Y,_) } 1 :- city(Y) .\n",
    "\n",
    "seen(C) :- start(C) .\n",
    "seen(X) :- path(A,X), start(A).\n",
    "seen(Y) :- path(X,Y), seen(X).\n",
    "\n",
    ":- city(C) , not seen(C).\n",
    "\n",
    "#minimize { D,C1,C2 : path(C1,C2) , road(C1,C2,D)  }.\n",
    "\n",
    "#show start/1.\n",
    "#show path/2."
   ]
  }
 ],
 "metadata": {
  "kernelspec": {
   "display_name": ".venv",
   "language": "python",
   "name": "python3"
  },
  "language_info": {
   "codemirror_mode": {
    "name": "ipython",
    "version": 3
   },
   "file_extension": ".py",
   "mimetype": "text/x-python",
   "name": "python",
   "nbconvert_exporter": "python",
   "pygments_lexer": "ipython3",
   "version": "3.12.3"
  }
 },
 "nbformat": 4,
 "nbformat_minor": 5
}
