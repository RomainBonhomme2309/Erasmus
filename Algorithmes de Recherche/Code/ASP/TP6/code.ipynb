{
 "cells": [
  {
   "cell_type": "code",
   "execution_count": 9,
   "metadata": {},
   "outputs": [
    {
     "name": "stdout",
     "output_type": "stream",
     "text": [
      "Created `%%clingo` as an alias for `%%script clingo --no-raise-error`.\n"
     ]
    }
   ],
   "source": [
    "%alias_magic clingo script -p \"clingo --no-raise-error\""
   ]
  },
  {
   "cell_type": "code",
   "execution_count": 7,
   "metadata": {},
   "outputs": [
    {
     "name": "stdout",
     "output_type": "stream",
     "text": [
      "assigned(alpha,core3) assigned(charlie,core6) comm_cost(alpha,charlie,core3,core6,300) assigned(bravo,core1) comm_cost(bravo,delta,core1,core7,200) assigned(delta,core7) assigned(echo,core4) comm_cost(echo,delta,core4,core7,400) assigned(foxtrot,core6) assigned(hotel,core7) comm_cost(foxtrot,hotel,core6,core7,500) assigned(golf,core5) comm_cost(golf,hotel,core5,core7,600) assigned(juliet,core1) comm_cost(india,juliet,core5,core1,1400) assigned(india,core5) comm_cost(juliet,india,core1,core5,700) comm_cost(delta,echo,core7,core4,1600)\n",
      "Optimization: 5700\n",
      "assigned(alpha,core3) assigned(charlie,core6) comm_cost(alpha,charlie,core3,core6,300) assigned(bravo,core1) comm_cost(bravo,delta,core1,core7,200) assigned(delta,core7) assigned(echo,core4) comm_cost(echo,delta,core4,core7,400) assigned(foxtrot,core6) assigned(hotel,core7) comm_cost(foxtrot,hotel,core6,core7,500) assigned(golf,core5) comm_cost(golf,hotel,core5,core7,600) assigned(juliet,core1) comm_cost(india,juliet,core4,core1,400) assigned(india,core4) comm_cost(juliet,india,core1,core4,200) comm_cost(delta,echo,core7,core4,1600)\n",
      "Optimization: 4200\n",
      "assigned(alpha,core4) assigned(charlie,core4) assigned(bravo,core5) assigned(delta,core7) comm_cost(bravo,delta,core5,core7,200) assigned(echo,core2) comm_cost(echo,delta,core2,core7,300) assigned(foxtrot,core6) assigned(hotel,core7) comm_cost(foxtrot,hotel,core6,core7,500) assigned(golf,core1) comm_cost(golf,hotel,core1,core7,600) assigned(juliet,core1) comm_cost(india,juliet,core6,core1,600) assigned(india,core6) comm_cost(juliet,india,core1,core6,300) comm_cost(delta,echo,core7,core2,1200)\n",
      "Optimization: 3700\n",
      "assigned(alpha,core2) assigned(charlie,core2) assigned(bravo,core5) assigned(delta,core3) comm_cost(bravo,delta,core5,core3,600) assigned(echo,core3) assigned(foxtrot,core1) comm_cost(foxtrot,hotel,core1,core4,1000) assigned(hotel,core4) assigned(golf,core1) comm_cost(golf,hotel,core1,core4,1200) assigned(india,core4) assigned(juliet,core6) comm_cost(india,juliet,core4,core6,400) comm_cost(juliet,india,core6,core4,200)\n",
      "Optimization: 3400\n",
      "assigned(alpha,core5) assigned(charlie,core5) assigned(bravo,core2) assigned(delta,core3) comm_cost(bravo,delta,core2,core3,400) assigned(echo,core3) assigned(foxtrot,core1) comm_cost(foxtrot,hotel,core1,core4,1000) assigned(hotel,core4) assigned(golf,core1) comm_cost(golf,hotel,core1,core4,1200) assigned(india,core4) assigned(juliet,core6) comm_cost(india,juliet,core4,core6,400) comm_cost(juliet,india,core6,core4,200)\n",
      "Optimization: 3200\n",
      "assigned(alpha,core2) assigned(charlie,core2) assigned(bravo,core3) assigned(delta,core6) comm_cost(bravo,delta,core3,core6,200) assigned(echo,core6) assigned(foxtrot,core1) comm_cost(foxtrot,hotel,core1,core4,1000) assigned(hotel,core4) assigned(golf,core1) comm_cost(golf,hotel,core1,core4,1200) assigned(india,core4) assigned(juliet,core3) comm_cost(india,juliet,core4,core3,400) comm_cost(juliet,india,core3,core4,200)\n",
      "Optimization: 3000\n",
      "assigned(charlie,core1) assigned(alpha,core1) assigned(bravo,core2) assigned(delta,core4) comm_cost(bravo,delta,core2,core4,600) assigned(echo,core3) comm_cost(echo,delta,core3,core4,200) assigned(foxtrot,core7) assigned(hotel,core5) comm_cost(foxtrot,hotel,core7,core5,500) assigned(golf,core5) assigned(india,core4) assigned(juliet,core3) comm_cost(india,juliet,core4,core3,400) comm_cost(juliet,india,core3,core4,200) comm_cost(delta,echo,core4,core3,800)\n",
      "Optimization: 2700\n",
      "assigned(alpha,core5) assigned(charlie,core5) assigned(bravo,core2) assigned(delta,core6) comm_cost(bravo,delta,core2,core6,400) assigned(echo,core3) comm_cost(echo,delta,core3,core6,100) assigned(foxtrot,core6) assigned(hotel,core3) comm_cost(foxtrot,hotel,core6,core3,500) assigned(golf,core2) comm_cost(golf,hotel,core2,core3,1200) assigned(india,core4) assigned(juliet,core4) comm_cost(delta,echo,core6,core3,400)\n",
      "Optimization: 2600\n",
      "assigned(charlie,core1) assigned(alpha,core1) assigned(bravo,core2) assigned(delta,core3) comm_cost(bravo,delta,core2,core3,400) assigned(echo,core3) assigned(foxtrot,core7) assigned(hotel,core7) assigned(golf,core2) comm_cost(golf,hotel,core2,core7,1800) assigned(india,core4) assigned(juliet,core4)\n",
      "Optimization: 2200\n",
      "assigned(alpha,core5) assigned(charlie,core5) assigned(delta,core1) comm_cost(bravo,delta,core7,core1,200) assigned(bravo,core7) assigned(echo,core1) assigned(foxtrot,core4) assigned(hotel,core4) assigned(golf,core2) comm_cost(golf,hotel,core2,core4,1800) assigned(india,core3) assigned(juliet,core3)\n",
      "Optimization: 2000\n",
      "assigned(alpha,core3) assigned(charlie,core3) assigned(bravo,core7) assigned(delta,core5) comm_cost(bravo,delta,core7,core5,200) assigned(echo,core5) assigned(foxtrot,core4) assigned(hotel,core2) comm_cost(foxtrot,hotel,core4,core2,1500) assigned(golf,core2) assigned(juliet,core1) assigned(india,core1)\n",
      "Optimization: 1700\n",
      "assigned(alpha,core7) assigned(charlie,core7) assigned(bravo,core6) assigned(delta,core3) comm_cost(bravo,delta,core6,core3,200) assigned(echo,core3) assigned(foxtrot,core4) assigned(hotel,core4) assigned(golf,core1) comm_cost(golf,hotel,core1,core4,1200) assigned(india,core2) assigned(juliet,core2)\n",
      "Optimization: 1400\n",
      "assigned(alpha,core7) assigned(charlie,core7) assigned(bravo,core6) assigned(delta,core3) comm_cost(bravo,delta,core6,core3,200) assigned(echo,core3) assigned(hotel,core1) comm_cost(foxtrot,hotel,core4,core1,1000) assigned(foxtrot,core4) assigned(golf,core1) assigned(india,core2) assigned(juliet,core2)\n",
      "Optimization: 1200\n",
      "assigned(alpha,core7) assigned(charlie,core7) assigned(bravo,core2) assigned(delta,core4) comm_cost(bravo,delta,core2,core4,600) assigned(echo,core4) assigned(foxtrot,core3) assigned(hotel,core6) comm_cost(foxtrot,hotel,core3,core6,500) assigned(golf,core6) assigned(juliet,core1) assigned(india,core1)\n",
      "Optimization: 1100\n",
      "assigned(alpha,core5) assigned(charlie,core5) assigned(bravo,core2) assigned(delta,core3) comm_cost(bravo,delta,core2,core3,400) assigned(echo,core3) assigned(hotel,core1) assigned(foxtrot,core1) comm_cost(golf,hotel,core7,core1,600) assigned(golf,core7) assigned(india,core4) assigned(juliet,core4)\n",
      "Optimization: 1000\n",
      "assigned(alpha,core5) assigned(charlie,core5) assigned(bravo,core6) assigned(delta,core3) comm_cost(bravo,delta,core6,core3,200) assigned(echo,core3) assigned(hotel,core1) assigned(foxtrot,core1) comm_cost(golf,hotel,core7,core1,600) assigned(golf,core7) assigned(india,core4) assigned(juliet,core4)\n",
      "Optimization: 800\n",
      "assigned(alpha,core5) assigned(charlie,core5) assigned(bravo,core6) assigned(delta,core3) comm_cost(bravo,delta,core6,core3,200) assigned(echo,core3) assigned(hotel,core1) comm_cost(foxtrot,hotel,core7,core1,500) assigned(foxtrot,core7) assigned(golf,core1) assigned(india,core4) assigned(juliet,core4)\n",
      "Optimization: 700\n",
      "OPTIMUM FOUND\n"
     ]
    }
   ],
   "source": [
    "%%clingo -V0 0\n",
    "\n",
    "process(alpha).\n",
    "process(bravo).\n",
    "process(charlie).\n",
    "process(delta).\n",
    "process(echo).\n",
    "process(foxtrot).\n",
    "process(golf).\n",
    "process(hotel).\n",
    "process(india).\n",
    "process(juliet).\n",
    "\n",
    "data(alpha, charlie, 300).\n",
    "data(bravo, delta, 200).\n",
    "data(echo, delta, 100).\n",
    "data(foxtrot, hotel, 500).\n",
    "data(golf, hotel, 600).\n",
    "data(india, juliet, 200).\n",
    "data(juliet, india, 100).\n",
    "data(delta, echo, 400).\n",
    "\n",
    "core(core1).\n",
    "core(core2).\n",
    "core(core3).\n",
    "core(core4).\n",
    "core(core5).\n",
    "core(core6).\n",
    "core(core7).\n",
    "\n",
    "distance(core1, core2, 4).\n",
    "distance(core1, core3, 4).\n",
    "distance(core1, core4, 2).\n",
    "distance(core1, core5, 7).\n",
    "distance(core1, core6, 3).\n",
    "distance(core1, core7, 1).\n",
    "distance(core2, core3, 2). \n",
    "distance(core2, core4, 3).\n",
    "distance(core2, core5, 5).\n",
    "distance(core2, core6, 2).\n",
    "distance(core2, core7, 3).\n",
    "distance(core3, core4, 2).\n",
    "distance(core3, core5, 3).\n",
    "distance(core3, core6, 1).\n",
    "distance(core3, core7, 5).\n",
    "distance(core4, core5, 5).\n",
    "distance(core4, core6, 2).\n",
    "distance(core4, core7, 4).\n",
    "distance(core5, core6, 4).\n",
    "distance(core5, core7, 1).\n",
    "distance(core6, core7, 1).\n",
    "\n",
    "\n",
    "% Symmetric distances\n",
    "symmetric_distance(X, Y, D) :- distance(X, Y, D).\n",
    "symmetric_distance(Y, X, D) :- distance(X, Y, D).\n",
    "\n",
    "% Assign each process to a core\n",
    "1 { assigned(P, C) : core(C) } 1 :- process(P).\n",
    "\n",
    "% At most two processes per core\n",
    ":- 3 { assigned(_, C) : process(_) }, core(C).\n",
    "\n",
    "% Communication costs between processes\n",
    "comm_cost(P1, P2, C1, C2, Cost) :-\n",
    "    data(P1, P2, D),\n",
    "    assigned(P1, C1),\n",
    "    assigned(P2, C2),\n",
    "    symmetric_distance(C1, C2, Dist),\n",
    "    Cost = D * Dist.\n",
    "\n",
    "% Total cost of the assignment (sum is on the first element of the tuple, this is why we need to put it on the first position when minimizing)\n",
    "#minimize { Cost, P1, P2, C1, C2 : comm_cost(P1, P2, C1, C2, Cost) } .\n",
    "\n",
    "#show assigned/2.\n",
    "#show comm_cost/5."
   ]
  }
 ],
 "metadata": {
  "kernelspec": {
   "display_name": ".venv",
   "language": "python",
   "name": "python3"
  },
  "language_info": {
   "codemirror_mode": {
    "name": "ipython",
    "version": 3
   },
   "file_extension": ".py",
   "mimetype": "text/x-python",
   "name": "python",
   "nbconvert_exporter": "python",
   "pygments_lexer": "ipython3",
   "version": "3.12.3"
  }
 },
 "nbformat": 4,
 "nbformat_minor": 2
}
