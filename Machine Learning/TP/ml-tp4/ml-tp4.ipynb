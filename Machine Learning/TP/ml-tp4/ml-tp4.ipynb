{
 "cells": [
  {
   "cell_type": "markdown",
   "id": "aeef0dc2-b8e3-4418-bfe9-f3eb43de6a9b",
   "metadata": {
    "deletable": false,
    "editable": false,
    "nbgrader": {
     "cell_type": "markdown",
     "checksum": "0f52da9e66c40b93e9f6ea9758d98aa8",
     "grade": false,
     "grade_id": "ml-tp4-2024",
     "locked": true,
     "schema_version": 3,
     "solution": false,
     "task": false
    }
   },
   "source": [
    "# IS318 - Machine learning\n",
    "\n",
    "## TP4 (durée 1h20)\n",
    "\n",
    "L'objectif de ce TP est d'illustrer vos connaissances et compétences en *machine learning* en les mettant en pratique sur un jeu de données.\n",
    "Il s'agira de prendre en main le jeu de données, d'appliquer des algorithmes d'apprentissage et d'essayer d'obtenir les meilleurs résultats possible sur un ensemble de test caché.\n",
    "\n",
    "Comme pour les précédents TP, l'essentiel de l'évaluation portera sur la qualité de votre démarche méthodologique et la clarté de vos explications. Quelques points seront attribués en fonction des résultats obtenus sur l'ensemble de test, mais la rigueur de votre approche et la justification de vos choix resteront primordiales."
   ]
  },
  {
   "cell_type": "code",
   "execution_count": 1,
   "id": "3bd655f6-75cf-4dc3-85b5-c7b641bddeab",
   "metadata": {
    "deletable": false,
    "editable": false,
    "nbgrader": {
     "cell_type": "code",
     "checksum": "afaa3c0f0e7f002874751687ff41f8c9",
     "grade": false,
     "grade_id": "cell-ff1cd662f75d6703",
     "locked": true,
     "schema_version": 3,
     "solution": false,
     "task": false
    }
   },
   "outputs": [],
   "source": [
    "import numpy as np\n",
    "import matplotlib.pyplot as plt\n",
    "import sklearn\n",
    "\n",
    "from sklearn.model_selection import train_test_split\n",
    "from sklearn.ensemble import RandomForestClassifier\n",
    "from sklearn.model_selection import GridSearchCV\n",
    "\n",
    "from sklearn.linear_model import LogisticRegression\n",
    "\n",
    "X = np.load('X.npy')\n",
    "y = np.load('y.npy')"
   ]
  },
  {
   "cell_type": "markdown",
   "id": "a662d9d7-c30e-46c5-9cf4-1fe27f694f4b",
   "metadata": {
    "deletable": false,
    "editable": false,
    "nbgrader": {
     "cell_type": "markdown",
     "checksum": "b0c1ae3aedae752975f3acda03bda496",
     "grade": false,
     "grade_id": "cell-12f9bb502c222791",
     "locked": true,
     "schema_version": 3,
     "solution": false,
     "task": false
    }
   },
   "source": [
    "## 1. Jeu de données (~10 min)"
   ]
  },
  {
   "cell_type": "markdown",
   "id": "6d4361bb-f954-40b5-91f7-6068e6271c63",
   "metadata": {
    "deletable": false,
    "editable": false,
    "nbgrader": {
     "cell_type": "markdown",
     "checksum": "03e3714c24ee71df1896b47eca4a4b13",
     "grade": false,
     "grade_id": "dataset",
     "locked": true,
     "points": 3,
     "schema_version": 3,
     "solution": false,
     "task": true
    }
   },
   "source": [
    "**(Question)** Explorez le jeu de données. Proposez une visualisation de quelques échantillons du jeu de données. Expliquez brièvement ce que les données représentent et comment elles sont organisées. Que remarquez-vous ?"
   ]
  },
  {
   "cell_type": "code",
   "execution_count": 78,
   "id": "182c9bc1-f459-4be9-92a2-6906685690cc",
   "metadata": {},
   "outputs": [
    {
     "data": {
      "text/plain": [
       "(2000, 28, 28)"
      ]
     },
     "execution_count": 78,
     "metadata": {},
     "output_type": "execute_result"
    }
   ],
   "source": [
    "X.shape"
   ]
  },
  {
   "cell_type": "code",
   "execution_count": 79,
   "id": "e755005b",
   "metadata": {},
   "outputs": [
    {
     "data": {
      "text/plain": [
       "(2000,)"
      ]
     },
     "execution_count": 79,
     "metadata": {},
     "output_type": "execute_result"
    }
   ],
   "source": [
    "y.shape"
   ]
  },
  {
   "cell_type": "code",
   "execution_count": 80,
   "id": "364937fa",
   "metadata": {},
   "outputs": [
    {
     "data": {
      "image/png": "[encoded data removed]",
      "text/plain": [
       "<Figure size 1200x1000 with 10 Axes>"
      ]
     },
     "metadata": {},
     "output_type": "display_data"
    }
   ],
   "source": [
    "n_samples = 10\n",
    "fig, axes = plt.subplots(2, 5, figsize=(12,10))\n",
    "\n",
    "for i in range(n_samples):\n",
    "    row, col = divmod(i, 5)\n",
    "    ax = axes[row, col]\n",
    "    ax.imshow(X[i*150])\n",
    "    ax.set_title(f\"Label: {y[i*150]}\")\n",
    "    ax.axis('off')\n",
    "\n",
    "plt.suptitle(r'Visualization of $10$ samples from the training set with their associated labels')\n",
    "plt.show()"
   ]
  },
  {
   "cell_type": "markdown",
   "id": "a7c6cc21",
   "metadata": {},
   "source": [
    "Looking these data, we see that the dataset is similar to the MNIST one, containing digits from $0$ to $9$. These are set in order (i.e., the $0$, then the $1$,...).\n",
    "\n",
    "Variable X contain the 'drafts' of the digits (some are printed above), while variable y contains the label associated to each image.\n",
    "\n",
    "For training, we have $2000$ images, of dimension $28 \\times 28$."
   ]
  },
  {
   "cell_type": "code",
   "execution_count": 2,
   "id": "174f5ff8",
   "metadata": {},
   "outputs": [],
   "source": [
    "X_train, X_test, y_train, y_test = train_test_split(X, y, test_size=0.2, random_state=42)"
   ]
  },
  {
   "cell_type": "code",
   "execution_count": 82,
   "id": "82fae720",
   "metadata": {},
   "outputs": [
    {
     "data": {
      "text/plain": [
       "(1600, 28, 28)"
      ]
     },
     "execution_count": 82,
     "metadata": {},
     "output_type": "execute_result"
    }
   ],
   "source": [
    "X_train.shape"
   ]
  },
  {
   "cell_type": "code",
   "execution_count": 3,
   "id": "069fb0a8",
   "metadata": {},
   "outputs": [],
   "source": [
    "X_train = X_train.reshape(1600, -1)"
   ]
  },
  {
   "cell_type": "code",
   "execution_count": 84,
   "id": "9332e0a4",
   "metadata": {},
   "outputs": [
    {
     "data": {
      "text/plain": [
       "(1600, 784)"
      ]
     },
     "execution_count": 84,
     "metadata": {},
     "output_type": "execute_result"
    }
   ],
   "source": [
    "X_train.shape"
   ]
  },
  {
   "cell_type": "code",
   "execution_count": 4,
   "id": "c8b66980",
   "metadata": {},
   "outputs": [],
   "source": [
    "X_test = X_test.reshape(400, -1)"
   ]
  },
  {
   "cell_type": "code",
   "execution_count": 86,
   "id": "5e1cb42f",
   "metadata": {},
   "outputs": [
    {
     "data": {
      "text/plain": [
       "(400,)"
      ]
     },
     "execution_count": 86,
     "metadata": {},
     "output_type": "execute_result"
    }
   ],
   "source": [
    "y_test.shape"
   ]
  },
  {
   "cell_type": "markdown",
   "id": "f0ec7535-f6e2-4b63-986a-d126ae198f5a",
   "metadata": {
    "deletable": false,
    "editable": false,
    "nbgrader": {
     "cell_type": "markdown",
     "checksum": "76599fab3d90b056814a3e76901cb9cc",
     "grade": false,
     "grade_id": "cell-c3dd39341ed31d09",
     "locked": true,
     "schema_version": 3,
     "solution": false,
     "task": false
    }
   },
   "source": [
    "## 2. Algorithme d'apprentissage (~20 min)"
   ]
  },
  {
   "cell_type": "markdown",
   "id": "695e1caf-ed9f-437c-9fd8-169cfc0709f1",
   "metadata": {
    "deletable": false,
    "editable": false,
    "nbgrader": {
     "cell_type": "markdown",
     "checksum": "c9520a439d9046034fbfc3032acaf451",
     "grade": false,
     "grade_id": "first-model",
     "locked": true,
     "points": 3,
     "schema_version": 3,
     "solution": false,
     "task": true
    }
   },
   "source": [
    "**(Question)** Choisissez un algorithme d'apprentissage approprié et appliquez-le pour obtenir un premier résultat de référence.\n",
    "Expliquez brièvement comment cet algorithme fonctionne pour ce problème, et montrez ce qu'il a appris.\n",
    "Rapportez, analysez et discutez les résultats."
   ]
  },
  {
   "cell_type": "markdown",
   "id": "dbedfcdd",
   "metadata": {},
   "source": [
    "Th Random Forest Classifier works as follow:\n",
    "* Will  build several Decision Trees. A Decision Tree starts with the root of the tree and follow splits based on variable outcomes until a leaf node is reached and the result is given.\n",
    "* It is a part of Ensemble learning, meaning that it uses multiple models, trained over the same data, averaging the results of each model ultimately, based on the hope that each tree is independent and different from tree to tree. \n",
    "* It uses bootstrapping so, it will randomly sample subsets of a dataset over a given number of iterations and a given number of variables. These results are then averaged together to obtain a more powerful result."
   ]
  },
  {
   "cell_type": "code",
   "execution_count": 87,
   "id": "db950656",
   "metadata": {},
   "outputs": [
    {
     "name": "stdout",
     "output_type": "stream",
     "text": [
      "Training score: 1.0\n",
      "Testing score: 0.76\n",
      "Accuracy: 76.0\n"
     ]
    }
   ],
   "source": [
    "basic_RF = RandomForestClassifier()\n",
    "basic_RF.fit(X_train, y_train)\n",
    "basic_RF_pred = basic_RF.predict(X_test)\n",
    "\n",
    "basic_RF_train_score = basic_RF.score(X_train, y_train)\n",
    "basic_RF_test_score = basic_RF.score(X_test, y_test)\n",
    "\n",
    "print(f\"Training score: {basic_RF_train_score}\")\n",
    "print(f\"Testing score: {basic_RF_test_score}\")\n",
    "print(\"Accuracy:\", (len(y_test[y_test == basic_RF_pred]) / len(y_test)) * 100)"
   ]
  },
  {
   "cell_type": "markdown",
   "id": "94a23912",
   "metadata": {},
   "source": [
    "This first algorithm, launched without hyperparameter set (default: 100 estimators and no maximum depth) reach a perfect training score. This score is called $R^2$ (the coefficient of determination) and is defined as $\\frac{\\sum (y_{true} - y_{pred})^2}{\\sum (y_{true} - mean(y_{true}))^2}$. Physically, it can be seen as the proportion of the total variation in the observed data that is captured by the model. An $R^2$ of $1$ indicates perfect prediction, while an $R^2$ of $0$ means the model explains none of the variance, and all variation is due to noise or unexplained factors.\n",
    "\n",
    "Having this score, we know that our model is perfectly predicting the training set so we could think that it is great. But then, we see that the score on the testing set drastically decreases to $0.76$ leading to an accuracy of classification of $76\\%$.With these results, it is quiet clear that the model we build has overfitted the data (it can be explained since the training dataset is quiet small)."
   ]
  },
  {
   "cell_type": "markdown",
   "id": "8fc082ca-02bd-4aab-acd5-2a744583b1b5",
   "metadata": {
    "deletable": false,
    "editable": false,
    "nbgrader": {
     "cell_type": "markdown",
     "checksum": "d080aaf46ced4b719ad6279b54128584",
     "grade": false,
     "grade_id": "first-model-hyperparameters",
     "locked": true,
     "points": 3,
     "schema_version": 3,
     "solution": false,
     "task": true
    }
   },
   "source": [
    "**(Question)** Optimisez les hyperparamètres de votre modèle en utilisant un protocole approprié.\n",
    "Rapportez, analysez et discutez les résultats."
   ]
  },
  {
   "cell_type": "markdown",
   "id": "4846342b",
   "metadata": {},
   "source": [
    "I decided to tune the hyperparameters using the GridSearch method from sklearn. By doing so, I create a sort of matrix of parameters (in 2D because I have $2$ hyperparameters to tune), with each cell of the matrix containng a different combinaison of parameters (for example, the upper left cell will contain n'estimators=1 and max_depth=1 and the last will contain n'estimators=290 and max_depth=29). Then, for each combinations, a model will be created and train, following a 5-fold cross validation (each model will split the data in $5$ subsets and train on the $5$ different combinations). Finally, each model is evaluated based on a score, which is the accuracy of the prediction in this case.\n",
    "\n",
    "In the end, I return the hyperparameters that leads to the best accuracy and the accuracy associated with this 'best' model."
   ]
  },
  {
   "cell_type": "code",
   "execution_count": 90,
   "id": "60ed3aa5-bd2d-46a2-b617-689378288713",
   "metadata": {},
   "outputs": [
    {
     "name": "stderr",
     "output_type": "stream",
     "text": [
      "/home/rbonhomme001/Documents/Cours/.venv/lib/python3.12/site-packages/numpy/ma/core.py:2820: RuntimeWarning: invalid value encountered in cast\n",
      "  _data = np.array(data, dtype=dtype, copy=copy,\n"
     ]
    },
    {
     "name": "stdout",
     "output_type": "stream",
     "text": [
      "Best Hyperparameters: {'max_depth': 21, 'n_estimators': 251}\n",
      "Best Accuracy: 0.733125\n"
     ]
    }
   ],
   "source": [
    "tune_rfc_model1 = RandomForestClassifier()\n",
    "\n",
    "first_param_dist_rf = {\n",
    "    'n_estimators': np.arange(1, 300, 10),\n",
    "    'max_depth': np.arange(1, 30, 1),\n",
    "}\n",
    "\n",
    "random_search_rfc1 = GridSearchCV(estimator=tune_rfc_model1, param_grid=first_param_dist_rf, scoring='accuracy', cv=5, n_jobs=-1)\n",
    "\n",
    "random_search_rfc1.fit(X_train, y_train)\n",
    "\n",
    "print(\"Best Hyperparameters:\", random_search_rfc1.best_params_)\n",
    "print(\"Best Accuracy:\", random_search_rfc1.best_score_)"
   ]
  },
  {
   "cell_type": "markdown",
   "id": "4dbd1bcf",
   "metadata": {},
   "source": [
    "Having these first results, I fine-tuned the model to pick the best hyperparameters."
   ]
  },
  {
   "cell_type": "code",
   "execution_count": 91,
   "id": "a5c474d9",
   "metadata": {},
   "outputs": [
    {
     "name": "stderr",
     "output_type": "stream",
     "text": [
      "/home/rbonhomme001/Documents/Cours/.venv/lib/python3.12/site-packages/numpy/ma/core.py:2820: RuntimeWarning: invalid value encountered in cast\n",
      "  _data = np.array(data, dtype=dtype, copy=copy,\n"
     ]
    },
    {
     "name": "stdout",
     "output_type": "stream",
     "text": [
      "Best Hyperparameters: {'max_depth': 20, 'n_estimators': 242}\n",
      "Best Accuracy: 0.73125\n"
     ]
    }
   ],
   "source": [
    "tune_rfc_model1 = RandomForestClassifier()\n",
    "\n",
    "first_param_dist_rf = {\n",
    "    'n_estimators': np.arange(241, 262, 1),\n",
    "    'max_depth': np.arange(20, 23, 1),\n",
    "}\n",
    "\n",
    "random_search_rfc1 = GridSearchCV(estimator=tune_rfc_model1, param_grid=first_param_dist_rf, scoring='accuracy', cv=5, n_jobs=-1)\n",
    "\n",
    "random_search_rfc1.fit(X_train, y_train)\n",
    "\n",
    "print(\"Best Hyperparameters:\", random_search_rfc1.best_params_)\n",
    "print(\"Best Accuracy:\", random_search_rfc1.best_score_)"
   ]
  },
  {
   "cell_type": "code",
   "execution_count": 110,
   "id": "4b6d871a",
   "metadata": {},
   "outputs": [
    {
     "name": "stdout",
     "output_type": "stream",
     "text": [
      "Training score: 1.0\n",
      "Testing score: 0.77\n",
      "Accuracy: 77.0\n"
     ]
    }
   ],
   "source": [
    "tuned_RF = RandomForestClassifier(max_depth=20, n_estimators=242)\n",
    "tuned_RF.fit(X_train, y_train)\n",
    "tuned_RF_pred = tuned_RF.predict(X_test)\n",
    "\n",
    "tuned_RF_train_score = tuned_RF.score(X_train, y_train)\n",
    "tuned_RF_test_score = tuned_RF.score(X_test, y_test)\n",
    "\n",
    "print(f\"Training score: {tuned_RF_train_score}\")\n",
    "print(f\"Testing score: {tuned_RF_test_score}\")\n",
    "print(\"Accuracy:\", (len(y_test[y_test == tuned_RF_pred]) / len(y_test)) * 100)"
   ]
  },
  {
   "cell_type": "markdown",
   "id": "d0e8e793-5a43-4475-94a2-ba5a4c653ebd",
   "metadata": {
    "deletable": false,
    "editable": false,
    "nbgrader": {
     "cell_type": "markdown",
     "checksum": "95df06ca929e343eda98e8e54c3123e9",
     "grade": false,
     "grade_id": "cell-bbe954ed341621fc",
     "locked": true,
     "schema_version": 3,
     "solution": false,
     "task": false
    }
   },
   "source": [
    "## 3. Évaluation comparative (~20 min)"
   ]
  },
  {
   "cell_type": "markdown",
   "id": "620cd31f-3145-4e8e-8855-016e8802e864",
   "metadata": {
    "deletable": false,
    "editable": false,
    "nbgrader": {
     "cell_type": "markdown",
     "checksum": "9babf167570be366a182c1d70a20a5b5",
     "grade": false,
     "grade_id": "comparative-model",
     "locked": true,
     "points": 4,
     "schema_version": 3,
     "solution": false,
     "task": true
    }
   },
   "source": [
    "**(Question)** Appliquez un autre algorithme d'apprentissage approprié sur le même jeu de données.\n",
    "Expliquez brièvement comment cet algorithme fonctionne pour ce problème, et montrez ce qu'il a appris.\n",
    "Rapportez, analysez et discutez les résultats.\n",
    "Comparez-les à ceux obtenus pour le modèle précédent."
   ]
  },
  {
   "cell_type": "markdown",
   "id": "fa12063b",
   "metadata": {},
   "source": [
    "I would simply apply the Logistic Regression to our data.\n",
    "\n",
    "\n",
    "No more time to explain clearly..."
   ]
  },
  {
   "cell_type": "code",
   "execution_count": 125,
   "id": "8758cd66",
   "metadata": {},
   "outputs": [
    {
     "name": "stdout",
     "output_type": "stream",
     "text": [
      "Training score: 1.0\n",
      "Testing score: 0.475\n",
      "Accuracy: 47.5\n"
     ]
    }
   ],
   "source": [
    "logit = LogisticRegression(max_iter=1000)\n",
    "logit.fit(X_train, y_train)\n",
    "y_pred_logit = logit.predict(X_test)\n",
    "\n",
    "logit_train_score = logit.score(X_train, y_train)\n",
    "logit_test_score = logit.score(X_test, y_test)\n",
    "\n",
    "print(f\"Training score: {logit_train_score}\")\n",
    "print(f\"Testing score: {logit_test_score}\")\n",
    "print(\"Accuracy:\", (len(y_test[y_test == y_pred_logit]) / len(y_test)) * 100)"
   ]
  },
  {
   "cell_type": "markdown",
   "id": "d8af7f8c",
   "metadata": {},
   "source": [
    "Again a poor testing score, we surely overfit."
   ]
  },
  {
   "cell_type": "markdown",
   "id": "d8787250-06d6-4d5a-996a-cd5433d0f8a9",
   "metadata": {
    "deletable": false,
    "editable": false,
    "nbgrader": {
     "cell_type": "markdown",
     "checksum": "92f388fb854ff367e2759d96ae461f8c",
     "grade": false,
     "grade_id": "cell-a13b923909abc135",
     "locked": true,
     "schema_version": 3,
     "solution": false,
     "task": false
    }
   },
   "source": [
    "## 4. Amélioration des performances (~25 min)"
   ]
  },
  {
   "cell_type": "markdown",
   "id": "b52df889-a04b-40df-a43d-e23da2590eac",
   "metadata": {
    "deletable": false,
    "editable": false,
    "nbgrader": {
     "cell_type": "markdown",
     "checksum": "3c150c051f5aee91b96aa544646237c2",
     "grade": false,
     "grade_id": "performance",
     "locked": true,
     "points": 4,
     "schema_version": 3,
     "solution": false,
     "task": true
    }
   },
   "source": [
    "**(Question)** Essayez d'obtenir les meilleurs résultats possibles sur ce jeu de données, en expliquant votre démarche. À défaut, suggérez des pistes d'amélioration."
   ]
  },
  {
   "cell_type": "markdown",
   "id": "6f5990cb",
   "metadata": {},
   "source": [
    "Ideally, I would have learn a boosting algorithm (XGBoost) but I realized that I hadn't install the library so I couldn't use it."
   ]
  },
  {
   "cell_type": "markdown",
   "id": "33382f41",
   "metadata": {},
   "source": [
    "Another wayof increase the accuracy could have been to use unsupervised learning to do some clustering (with KMeans fo example), but I focused on the tuning of the RandomForest algorithm and I therefore could not implement it for this dataset."
   ]
  },
  {
   "cell_type": "markdown",
   "id": "75222625-3974-4dc0-bf18-e5e0f1e43d6d",
   "metadata": {
    "deletable": false,
    "editable": false,
    "nbgrader": {
     "cell_type": "markdown",
     "checksum": "4996555fb7ab00fd4dd05da17a5a120e",
     "grade": false,
     "grade_id": "cell-2d7be3a75e1d42ff",
     "locked": true,
     "schema_version": 3,
     "solution": false,
     "task": false
    }
   },
   "source": [
    "## 5. Prédictions sur l'ensemble de test (~5 min)"
   ]
  },
  {
   "cell_type": "markdown",
   "id": "fb4cc910-2725-4ee3-a084-a25fcc365bcb",
   "metadata": {
    "deletable": false,
    "editable": false,
    "nbgrader": {
     "cell_type": "markdown",
     "checksum": "bd8386950750c59f5e962d95d1d0c1ff",
     "grade": false,
     "grade_id": "test-predictions",
     "locked": true,
     "points": 3,
     "schema_version": 3,
     "solution": false,
     "task": true
    }
   },
   "source": [
    "**(Question)** Préparez et utilisez votre meilleur modèle pour obtenir les prédictions sur l'ensemble de test (fourni à la fin du TP).\n",
    "Stockez les prédictions dans le même format que les labels `y` fournis au début du TP, et enregistrez-les dans un fichier nommé `y_test_preds.npy` à l'aide de la fonction `np.save`."
   ]
  },
  {
   "cell_type": "code",
   "execution_count": 123,
   "id": "46074db8",
   "metadata": {},
   "outputs": [
    {
     "name": "stdout",
     "output_type": "stream",
     "text": [
      "Best Hyperparameters: {'max_depth': 19, 'n_estimators': 291}\n",
      "Best Accuracy: 0.7555\n"
     ]
    }
   ],
   "source": [
    "X = X.reshape(2000, -1)\n",
    "tune_rfc_model_final = RandomForestClassifier()\n",
    "\n",
    "final_param_dist_rf = {\n",
    "    'n_estimators': np.arange(1, 300, 10),\n",
    "    'max_depth': np.arange(1, 30, 1),\n",
    "}\n",
    "\n",
    "random_search_rf_final = GridSearchCV(estimator=tune_rfc_model_final, param_grid=final_param_dist_rf, scoring='accuracy', cv=5, n_jobs=-1)\n",
    "\n",
    "random_search_rf_final.fit(X, y)\n",
    "\n",
    "print(\"Best Hyperparameters:\", random_search_rf_final.best_params_)\n",
    "print(\"Best Accuracy:\", random_search_rf_final.best_score_)"
   ]
  },
  {
   "cell_type": "code",
   "execution_count": 127,
   "id": "ec7bc57f",
   "metadata": {},
   "outputs": [
    {
     "data": {
      "text/html": [
       "<style>#sk-container-id-2 {\n",
       "  /* Definition of color scheme common for light and dark mode */\n",
       "  --sklearn-color-text: black;\n",
       "  --sklearn-color-line: gray;\n",
       "  /* Definition of color scheme for unfitted estimators */\n",
       "  --sklearn-color-unfitted-level-0: #fff5e6;\n",
       "  --sklearn-color-unfitted-level-1: #f6e4d2;\n",
       "  --sklearn-color-unfitted-level-2: #ffe0b3;\n",
       "  --sklearn-color-unfitted-level-3: chocolate;\n",
       "  /* Definition of color scheme for fitted estimators */\n",
       "  --sklearn-color-fitted-level-0: #f0f8ff;\n",
       "  --sklearn-color-fitted-level-1: #d4ebff;\n",
       "  --sklearn-color-fitted-level-2: #b3dbfd;\n",
       "  --sklearn-color-fitted-level-3: cornflowerblue;\n",
       "\n",
       "  /* Specific color for light theme */\n",
       "  --sklearn-color-text-on-default-background: var(--sg-text-color, var(--theme-code-foreground, var(--jp-content-font-color1, black)));\n",
       "  --sklearn-color-background: var(--sg-background-color, var(--theme-background, var(--jp-layout-color0, white)));\n",
       "  --sklearn-color-border-box: var(--sg-text-color, var(--theme-code-foreground, var(--jp-content-font-color1, black)));\n",
       "  --sklearn-color-icon: #696969;\n",
       "\n",
       "  @media (prefers-color-scheme: dark) {\n",
       "    /* Redefinition of color scheme for dark theme */\n",
       "    --sklearn-color-text-on-default-background: var(--sg-text-color, var(--theme-code-foreground, var(--jp-content-font-color1, white)));\n",
       "    --sklearn-color-background: var(--sg-background-color, var(--theme-background, var(--jp-layout-color0, #111)));\n",
       "    --sklearn-color-border-box: var(--sg-text-color, var(--theme-code-foreground, var(--jp-content-font-color1, white)));\n",
       "    --sklearn-color-icon: #878787;\n",
       "  }\n",
       "}\n",
       "\n",
       "#sk-container-id-2 {\n",
       "  color: var(--sklearn-color-text);\n",
       "}\n",
       "\n",
       "#sk-container-id-2 pre {\n",
       "  padding: 0;\n",
       "}\n",
       "\n",
       "#sk-container-id-2 input.sk-hidden--visually {\n",
       "  border: 0;\n",
       "  clip: rect(1px 1px 1px 1px);\n",
       "  clip: rect(1px, 1px, 1px, 1px);\n",
       "  height: 1px;\n",
       "  margin: -1px;\n",
       "  overflow: hidden;\n",
       "  padding: 0;\n",
       "  position: absolute;\n",
       "  width: 1px;\n",
       "}\n",
       "\n",
       "#sk-container-id-2 div.sk-dashed-wrapped {\n",
       "  border: 1px dashed var(--sklearn-color-line);\n",
       "  margin: 0 0.4em 0.5em 0.4em;\n",
       "  box-sizing: border-box;\n",
       "  padding-bottom: 0.4em;\n",
       "  background-color: var(--sklearn-color-background);\n",
       "}\n",
       "\n",
       "#sk-container-id-2 div.sk-container {\n",
       "  /* jupyter's `normalize.less` sets `[hidden] { display: none; }`\n",
       "     but bootstrap.min.css set `[hidden] { display: none !important; }`\n",
       "     so we also need the `!important` here to be able to override the\n",
       "     default hidden behavior on the sphinx rendered scikit-learn.org.\n",
       "     See: https://github.com/scikit-learn/scikit-learn/issues/21755 */\n",
       "  display: inline-block !important;\n",
       "  position: relative;\n",
       "}\n",
       "\n",
       "#sk-container-id-2 div.sk-text-repr-fallback {\n",
       "  display: none;\n",
       "}\n",
       "\n",
       "div.sk-parallel-item,\n",
       "div.sk-serial,\n",
       "div.sk-item {\n",
       "  /* draw centered vertical line to link estimators */\n",
       "  background-image: linear-gradient(var(--sklearn-color-text-on-default-background), var(--sklearn-color-text-on-default-background));\n",
       "  background-size: 2px 100%;\n",
       "  background-repeat: no-repeat;\n",
       "  background-position: center center;\n",
       "}\n",
       "\n",
       "/* Parallel-specific style estimator block */\n",
       "\n",
       "#sk-container-id-2 div.sk-parallel-item::after {\n",
       "  content: \"\";\n",
       "  width: 100%;\n",
       "  border-bottom: 2px solid var(--sklearn-color-text-on-default-background);\n",
       "  flex-grow: 1;\n",
       "}\n",
       "\n",
       "#sk-container-id-2 div.sk-parallel {\n",
       "  display: flex;\n",
       "  align-items: stretch;\n",
       "  justify-content: center;\n",
       "  background-color: var(--sklearn-color-background);\n",
       "  position: relative;\n",
       "}\n",
       "\n",
       "#sk-container-id-2 div.sk-parallel-item {\n",
       "  display: flex;\n",
       "  flex-direction: column;\n",
       "}\n",
       "\n",
       "#sk-container-id-2 div.sk-parallel-item:first-child::after {\n",
       "  align-self: flex-end;\n",
       "  width: 50%;\n",
       "}\n",
       "\n",
       "#sk-container-id-2 div.sk-parallel-item:last-child::after {\n",
       "  align-self: flex-start;\n",
       "  width: 50%;\n",
       "}\n",
       "\n",
       "#sk-container-id-2 div.sk-parallel-item:only-child::after {\n",
       "  width: 0;\n",
       "}\n",
       "\n",
       "/* Serial-specific style estimator block */\n",
       "\n",
       "#sk-container-id-2 div.sk-serial {\n",
       "  display: flex;\n",
       "  flex-direction: column;\n",
       "  align-items: center;\n",
       "  background-color: var(--sklearn-color-background);\n",
       "  padding-right: 1em;\n",
       "  padding-left: 1em;\n",
       "}\n",
       "\n",
       "\n",
       "/* Toggleable style: style used for estimator/Pipeline/ColumnTransformer box that is\n",
       "clickable and can be expanded/collapsed.\n",
       "- Pipeline and ColumnTransformer use this feature and define the default style\n",
       "- Estimators will overwrite some part of the style using the `sk-estimator` class\n",
       "*/\n",
       "\n",
       "/* Pipeline and ColumnTransformer style (default) */\n",
       "\n",
       "#sk-container-id-2 div.sk-toggleable {\n",
       "  /* Default theme specific background. It is overwritten whether we have a\n",
       "  specific estimator or a Pipeline/ColumnTransformer */\n",
       "  background-color: var(--sklearn-color-background);\n",
       "}\n",
       "\n",
       "/* Toggleable label */\n",
       "#sk-container-id-2 label.sk-toggleable__label {\n",
       "  cursor: pointer;\n",
       "  display: block;\n",
       "  width: 100%;\n",
       "  margin-bottom: 0;\n",
       "  padding: 0.5em;\n",
       "  box-sizing: border-box;\n",
       "  text-align: center;\n",
       "}\n",
       "\n",
       "#sk-container-id-2 label.sk-toggleable__label-arrow:before {\n",
       "  /* Arrow on the left of the label */\n",
       "  content: \"▸\";\n",
       "  float: left;\n",
       "  margin-right: 0.25em;\n",
       "  color: var(--sklearn-color-icon);\n",
       "}\n",
       "\n",
       "#sk-container-id-2 label.sk-toggleable__label-arrow:hover:before {\n",
       "  color: var(--sklearn-color-text);\n",
       "}\n",
       "\n",
       "/* Toggleable content - dropdown */\n",
       "\n",
       "#sk-container-id-2 div.sk-toggleable__content {\n",
       "  max-height: 0;\n",
       "  max-width: 0;\n",
       "  overflow: hidden;\n",
       "  text-align: left;\n",
       "  /* unfitted */\n",
       "  background-color: var(--sklearn-color-unfitted-level-0);\n",
       "}\n",
       "\n",
       "#sk-container-id-2 div.sk-toggleable__content.fitted {\n",
       "  /* fitted */\n",
       "  background-color: var(--sklearn-color-fitted-level-0);\n",
       "}\n",
       "\n",
       "#sk-container-id-2 div.sk-toggleable__content pre {\n",
       "  margin: 0.2em;\n",
       "  border-radius: 0.25em;\n",
       "  color: var(--sklearn-color-text);\n",
       "  /* unfitted */\n",
       "  background-color: var(--sklearn-color-unfitted-level-0);\n",
       "}\n",
       "\n",
       "#sk-container-id-2 div.sk-toggleable__content.fitted pre {\n",
       "  /* unfitted */\n",
       "  background-color: var(--sklearn-color-fitted-level-0);\n",
       "}\n",
       "\n",
       "#sk-container-id-2 input.sk-toggleable__control:checked~div.sk-toggleable__content {\n",
       "  /* Expand drop-down */\n",
       "  max-height: 200px;\n",
       "  max-width: 100%;\n",
       "  overflow: auto;\n",
       "}\n",
       "\n",
       "#sk-container-id-2 input.sk-toggleable__control:checked~label.sk-toggleable__label-arrow:before {\n",
       "  content: \"▾\";\n",
       "}\n",
       "\n",
       "/* Pipeline/ColumnTransformer-specific style */\n",
       "\n",
       "#sk-container-id-2 div.sk-label input.sk-toggleable__control:checked~label.sk-toggleable__label {\n",
       "  color: var(--sklearn-color-text);\n",
       "  background-color: var(--sklearn-color-unfitted-level-2);\n",
       "}\n",
       "\n",
       "#sk-container-id-2 div.sk-label.fitted input.sk-toggleable__control:checked~label.sk-toggleable__label {\n",
       "  background-color: var(--sklearn-color-fitted-level-2);\n",
       "}\n",
       "\n",
       "/* Estimator-specific style */\n",
       "\n",
       "/* Colorize estimator box */\n",
       "#sk-container-id-2 div.sk-estimator input.sk-toggleable__control:checked~label.sk-toggleable__label {\n",
       "  /* unfitted */\n",
       "  background-color: var(--sklearn-color-unfitted-level-2);\n",
       "}\n",
       "\n",
       "#sk-container-id-2 div.sk-estimator.fitted input.sk-toggleable__control:checked~label.sk-toggleable__label {\n",
       "  /* fitted */\n",
       "  background-color: var(--sklearn-color-fitted-level-2);\n",
       "}\n",
       "\n",
       "#sk-container-id-2 div.sk-label label.sk-toggleable__label,\n",
       "#sk-container-id-2 div.sk-label label {\n",
       "  /* The background is the default theme color */\n",
       "  color: var(--sklearn-color-text-on-default-background);\n",
       "}\n",
       "\n",
       "/* On hover, darken the color of the background */\n",
       "#sk-container-id-2 div.sk-label:hover label.sk-toggleable__label {\n",
       "  color: var(--sklearn-color-text);\n",
       "  background-color: var(--sklearn-color-unfitted-level-2);\n",
       "}\n",
       "\n",
       "/* Label box, darken color on hover, fitted */\n",
       "#sk-container-id-2 div.sk-label.fitted:hover label.sk-toggleable__label.fitted {\n",
       "  color: var(--sklearn-color-text);\n",
       "  background-color: var(--sklearn-color-fitted-level-2);\n",
       "}\n",
       "\n",
       "/* Estimator label */\n",
       "\n",
       "#sk-container-id-2 div.sk-label label {\n",
       "  font-family: monospace;\n",
       "  font-weight: bold;\n",
       "  display: inline-block;\n",
       "  line-height: 1.2em;\n",
       "}\n",
       "\n",
       "#sk-container-id-2 div.sk-label-container {\n",
       "  text-align: center;\n",
       "}\n",
       "\n",
       "/* Estimator-specific */\n",
       "#sk-container-id-2 div.sk-estimator {\n",
       "  font-family: monospace;\n",
       "  border: 1px dotted var(--sklearn-color-border-box);\n",
       "  border-radius: 0.25em;\n",
       "  box-sizing: border-box;\n",
       "  margin-bottom: 0.5em;\n",
       "  /* unfitted */\n",
       "  background-color: var(--sklearn-color-unfitted-level-0);\n",
       "}\n",
       "\n",
       "#sk-container-id-2 div.sk-estimator.fitted {\n",
       "  /* fitted */\n",
       "  background-color: var(--sklearn-color-fitted-level-0);\n",
       "}\n",
       "\n",
       "/* on hover */\n",
       "#sk-container-id-2 div.sk-estimator:hover {\n",
       "  /* unfitted */\n",
       "  background-color: var(--sklearn-color-unfitted-level-2);\n",
       "}\n",
       "\n",
       "#sk-container-id-2 div.sk-estimator.fitted:hover {\n",
       "  /* fitted */\n",
       "  background-color: var(--sklearn-color-fitted-level-2);\n",
       "}\n",
       "\n",
       "/* Specification for estimator info (e.g. \"i\" and \"?\") */\n",
       "\n",
       "/* Common style for \"i\" and \"?\" */\n",
       "\n",
       ".sk-estimator-doc-link,\n",
       "a:link.sk-estimator-doc-link,\n",
       "a:visited.sk-estimator-doc-link {\n",
       "  float: right;\n",
       "  font-size: smaller;\n",
       "  line-height: 1em;\n",
       "  font-family: monospace;\n",
       "  background-color: var(--sklearn-color-background);\n",
       "  border-radius: 1em;\n",
       "  height: 1em;\n",
       "  width: 1em;\n",
       "  text-decoration: none !important;\n",
       "  margin-left: 1ex;\n",
       "  /* unfitted */\n",
       "  border: var(--sklearn-color-unfitted-level-1) 1pt solid;\n",
       "  color: var(--sklearn-color-unfitted-level-1);\n",
       "}\n",
       "\n",
       ".sk-estimator-doc-link.fitted,\n",
       "a:link.sk-estimator-doc-link.fitted,\n",
       "a:visited.sk-estimator-doc-link.fitted {\n",
       "  /* fitted */\n",
       "  border: var(--sklearn-color-fitted-level-1) 1pt solid;\n",
       "  color: var(--sklearn-color-fitted-level-1);\n",
       "}\n",
       "\n",
       "/* On hover */\n",
       "div.sk-estimator:hover .sk-estimator-doc-link:hover,\n",
       ".sk-estimator-doc-link:hover,\n",
       "div.sk-label-container:hover .sk-estimator-doc-link:hover,\n",
       ".sk-estimator-doc-link:hover {\n",
       "  /* unfitted */\n",
       "  background-color: var(--sklearn-color-unfitted-level-3);\n",
       "  color: var(--sklearn-color-background);\n",
       "  text-decoration: none;\n",
       "}\n",
       "\n",
       "div.sk-estimator.fitted:hover .sk-estimator-doc-link.fitted:hover,\n",
       ".sk-estimator-doc-link.fitted:hover,\n",
       "div.sk-label-container:hover .sk-estimator-doc-link.fitted:hover,\n",
       ".sk-estimator-doc-link.fitted:hover {\n",
       "  /* fitted */\n",
       "  background-color: var(--sklearn-color-fitted-level-3);\n",
       "  color: var(--sklearn-color-background);\n",
       "  text-decoration: none;\n",
       "}\n",
       "\n",
       "/* Span, style for the box shown on hovering the info icon */\n",
       ".sk-estimator-doc-link span {\n",
       "  display: none;\n",
       "  z-index: 9999;\n",
       "  position: relative;\n",
       "  font-weight: normal;\n",
       "  right: .2ex;\n",
       "  padding: .5ex;\n",
       "  margin: .5ex;\n",
       "  width: min-content;\n",
       "  min-width: 20ex;\n",
       "  max-width: 50ex;\n",
       "  color: var(--sklearn-color-text);\n",
       "  box-shadow: 2pt 2pt 4pt #999;\n",
       "  /* unfitted */\n",
       "  background: var(--sklearn-color-unfitted-level-0);\n",
       "  border: .5pt solid var(--sklearn-color-unfitted-level-3);\n",
       "}\n",
       "\n",
       ".sk-estimator-doc-link.fitted span {\n",
       "  /* fitted */\n",
       "  background: var(--sklearn-color-fitted-level-0);\n",
       "  border: var(--sklearn-color-fitted-level-3);\n",
       "}\n",
       "\n",
       ".sk-estimator-doc-link:hover span {\n",
       "  display: block;\n",
       "}\n",
       "\n",
       "/* \"?\"-specific style due to the `<a>` HTML tag */\n",
       "\n",
       "#sk-container-id-2 a.estimator_doc_link {\n",
       "  float: right;\n",
       "  font-size: 1rem;\n",
       "  line-height: 1em;\n",
       "  font-family: monospace;\n",
       "  background-color: var(--sklearn-color-background);\n",
       "  border-radius: 1rem;\n",
       "  height: 1rem;\n",
       "  width: 1rem;\n",
       "  text-decoration: none;\n",
       "  /* unfitted */\n",
       "  color: var(--sklearn-color-unfitted-level-1);\n",
       "  border: var(--sklearn-color-unfitted-level-1) 1pt solid;\n",
       "}\n",
       "\n",
       "#sk-container-id-2 a.estimator_doc_link.fitted {\n",
       "  /* fitted */\n",
       "  border: var(--sklearn-color-fitted-level-1) 1pt solid;\n",
       "  color: var(--sklearn-color-fitted-level-1);\n",
       "}\n",
       "\n",
       "/* On hover */\n",
       "#sk-container-id-2 a.estimator_doc_link:hover {\n",
       "  /* unfitted */\n",
       "  background-color: var(--sklearn-color-unfitted-level-3);\n",
       "  color: var(--sklearn-color-background);\n",
       "  text-decoration: none;\n",
       "}\n",
       "\n",
       "#sk-container-id-2 a.estimator_doc_link.fitted:hover {\n",
       "  /* fitted */\n",
       "  background-color: var(--sklearn-color-fitted-level-3);\n",
       "}\n",
       "</style><div id=\"sk-container-id-2\" class=\"sk-top-container\"><div class=\"sk-text-repr-fallback\"><pre>RandomForestClassifier(max_depth=19, n_estimators=291)</pre><b>In a Jupyter environment, please rerun this cell to show the HTML representation or trust the notebook. <br />On GitHub, the HTML representation is unable to render, please try loading this page with nbviewer.org.</b></div><div class=\"sk-container\" hidden><div class=\"sk-item\"><div class=\"sk-estimator fitted sk-toggleable\"><input class=\"sk-toggleable__control sk-hidden--visually\" id=\"sk-estimator-id-2\" type=\"checkbox\" checked><label for=\"sk-estimator-id-2\" class=\"sk-toggleable__label fitted sk-toggleable__label-arrow fitted\">&nbsp;&nbsp;RandomForestClassifier<a class=\"sk-estimator-doc-link fitted\" rel=\"noreferrer\" target=\"_blank\" href=\"https://scikit-learn.org/1.5/modules/generated/sklearn.ensemble.RandomForestClassifier.html\">?<span>Documentation for RandomForestClassifier</span></a><span class=\"sk-estimator-doc-link fitted\">i<span>Fitted</span></span></label><div class=\"sk-toggleable__content fitted\"><pre>RandomForestClassifier(max_depth=19, n_estimators=291)</pre></div> </div></div></div></div>"
      ],
      "text/plain": [
       "RandomForestClassifier(max_depth=19, n_estimators=291)"
      ]
     },
     "execution_count": 127,
     "metadata": {},
     "output_type": "execute_result"
    }
   ],
   "source": [
    "final_rf_model = RandomForestClassifier(n_estimators=291, max_depth=19)\n",
    "final_rf_model.fit(X, y)"
   ]
  },
  {
   "cell_type": "code",
   "execution_count": 128,
   "id": "26e7919d-5415-4cba-bc43-1f86ecfbc403",
   "metadata": {
    "deletable": false,
    "nbgrader": {
     "cell_type": "code",
     "checksum": "96acbf4216d5b354e373c9b83e194595",
     "grade": true,
     "grade_id": "test-predictions-code",
     "locked": false,
     "points": 0,
     "schema_version": 3,
     "solution": true,
     "task": false
    }
   },
   "outputs": [
    {
     "data": {
      "text/plain": [
       "(1000, 28, 28)"
      ]
     },
     "execution_count": 128,
     "metadata": {},
     "output_type": "execute_result"
    }
   ],
   "source": [
    "X_test = np.load('X_test.npy')\n",
    "X_test.shape"
   ]
  },
  {
   "cell_type": "code",
   "execution_count": 129,
   "id": "6ca569d2",
   "metadata": {},
   "outputs": [],
   "source": [
    "X_test = X_test.reshape(1000, -1)"
   ]
  },
  {
   "cell_type": "code",
   "execution_count": 130,
   "id": "02d7e86a",
   "metadata": {},
   "outputs": [],
   "source": [
    "y_test_preds = final_rf_model.predict(X_test)\n",
    "\n",
    "np.save('y_test_preds.npy', y_test_preds)"
   ]
  },
  {
   "cell_type": "markdown",
   "id": "6c6e3e8f-6d25-42d3-b6f8-3cdfd23af6b0",
   "metadata": {
    "deletable": false,
    "editable": false,
    "nbgrader": {
     "cell_type": "markdown",
     "checksum": "1a1642ef684a537fc8795e52459f02ee",
     "grade": false,
     "grade_id": "cell-7dc5dca2d54a2fc3",
     "locked": true,
     "schema_version": 3,
     "solution": false,
     "task": false
    }
   },
   "source": [
    "Vérification du format de votre fichier de prédictions :"
   ]
  },
  {
   "cell_type": "code",
   "execution_count": 131,
   "id": "2ef46e24-759a-4769-88a1-50a2ec35a553",
   "metadata": {
    "deletable": false,
    "editable": false,
    "nbgrader": {
     "cell_type": "code",
     "checksum": "8508d01d75333f280b5e6063459e597f",
     "grade": false,
     "grade_id": "verif-test-predictions",
     "locked": true,
     "schema_version": 3,
     "solution": false,
     "task": false
    }
   },
   "outputs": [],
   "source": [
    "y_test_preds = np.load('y_test_preds.npy')\n",
    "assert y_test_preds.dtype == y.dtype\n",
    "assert y_test_preds.ndim == y.ndim\n",
    "assert y_test_preds.shape[0] == X_test.shape[0]"
   ]
  },
  {
   "cell_type": "markdown",
   "id": "3e117971-7f6e-48cc-8ca3-bf06c9bc9347",
   "metadata": {
    "deletable": false,
    "editable": false,
    "nbgrader": {
     "cell_type": "markdown",
     "checksum": "cfb1f54b7cbdefb007d5ba2e06fb9643",
     "grade": false,
     "grade_id": "archive",
     "locked": true,
     "schema_version": 3,
     "solution": false,
     "task": false
    }
   },
   "source": [
    "Faites une archive de votre travail avec la commande : `tar cvzf ml-tp4.tgz ml-tp4.ipynb y_test_preds.npy`"
   ]
  },
  {
   "cell_type": "code",
   "execution_count": 4,
   "id": "c08924e8",
   "metadata": {},
   "outputs": [],
   "source": [
    "from xgboost import XGBClassifier\n",
    "from lightgbm import LGBMClassifier"
   ]
  },
  {
   "cell_type": "code",
   "execution_count": 5,
   "id": "8e1fdb0e",
   "metadata": {},
   "outputs": [],
   "source": [
    "eval_set = [(X_test, y_test)]"
   ]
  },
  {
   "cell_type": "code",
   "execution_count": 6,
   "id": "9d3894fb",
   "metadata": {},
   "outputs": [
    {
     "name": "stdout",
     "output_type": "stream",
     "text": [
      "Training score Classifier: 1.0\n",
      "Testing score Classifier: 0.7275\n",
      "Accuracy: 72.75\n"
     ]
    }
   ],
   "source": [
    "basic_XGBClass_2 = XGBClassifier()\n",
    "basic_XGBClass_2.fit(X_train, y_train, eval_set=eval_set, verbose=0)\n",
    "\n",
    "basic_XGB_y_pred = basic_XGBClass_2.predict(X_test)\n",
    "\n",
    "\n",
    "basic_XGB_2_train_score = basic_XGBClass_2.score(X_train, y_train)\n",
    "basic_XGB_2_test_score = basic_XGBClass_2.score(X_test, y_test)\n",
    "\n",
    "print(f\"Training score Classifier: {basic_XGB_2_train_score}\")\n",
    "print(f\"Testing score Classifier: {basic_XGB_2_test_score}\")\n",
    "print(\"Accuracy:\", (len(y_test[y_test == basic_XGB_y_pred]) / len(y_test)) * 100)"
   ]
  },
  {
   "cell_type": "code",
   "execution_count": 9,
   "id": "f86de8c2",
   "metadata": {},
   "outputs": [
    {
     "name": "stdout",
     "output_type": "stream",
     "text": [
      "Training score Classifier: 1.0\n",
      "Testing score Classifier: 0.755\n",
      "Accuracy: 75.5\n"
     ]
    }
   ],
   "source": [
    "basic_LGBMClass = LGBMClassifier(verbose=-1)\n",
    "basic_LGBMClass.fit(X_train, y_train, eval_set=eval_set)\n",
    "basic_LGBM_y_pred = basic_LGBMClass.predict(X_test)\n",
    "\n",
    "basic_LGBM_2_train_score = basic_LGBMClass.score(X_train, y_train)\n",
    "basic_LGBM_2_test_score = basic_LGBMClass.score(X_test, y_test)\n",
    "\n",
    "print(f\"Training score Classifier: {basic_LGBM_2_train_score}\")\n",
    "print(f\"Testing score Classifier: {basic_LGBM_2_test_score}\")\n",
    "print(\"Accuracy:\", (len(y_test[y_test == basic_LGBM_y_pred]) / len(y_test)) * 100)"
   ]
  },
  {
   "cell_type": "code",
   "execution_count": 2,
   "id": "90c70dc6",
   "metadata": {},
   "outputs": [],
   "source": [
    "from sklearn.preprocessing import StandardScaler\n",
    "\n",
    "X = X.reshape(2000, -1)\n",
    "# Standardize the numerical data\n",
    "scaler = StandardScaler()\n",
    "scaled_X = scaler.fit_transform(X)\n",
    "\n",
    "X_train, X_test, y_train, y_test = train_test_split(scaled_X, y, test_size=0.2, random_state=42)"
   ]
  },
  {
   "cell_type": "code",
   "execution_count": 3,
   "id": "d69a155e",
   "metadata": {},
   "outputs": [
    {
     "name": "stdout",
     "output_type": "stream",
     "text": [
      "Training score: 1.0\n",
      "Testing score: 0.735\n",
      "Accuracy: 73.5\n"
     ]
    }
   ],
   "source": [
    "scaled_RF = RandomForestClassifier()\n",
    "scaled_RF.fit(X_train, y_train)\n",
    "scaled_RF_pred = scaled_RF.predict(X_test)\n",
    "\n",
    "scaled_RF_train_score = scaled_RF.score(X_train, y_train)\n",
    "scaled_RF_test_score = scaled_RF.score(X_test, y_test)\n",
    "\n",
    "print(f\"Training score: {scaled_RF_train_score}\")\n",
    "print(f\"Testing score: {scaled_RF_test_score}\")\n",
    "print(\"Accuracy:\", (len(y_test[y_test == scaled_RF_pred]) / len(y_test)) * 100)"
   ]
  }
 ],
 "metadata": {
  "kernelspec": {
   "display_name": ".venv",
   "language": "python",
   "name": "python3"
  },
  "language_info": {
   "codemirror_mode": {
    "name": "ipython",
    "version": 3
   },
   "file_extension": ".py",
   "mimetype": "text/x-python",
   "name": "python",
   "nbconvert_exporter": "python",
   "pygments_lexer": "ipython3",
   "version": "3.12.3"
  }
 },
 "nbformat": 4,
 "nbformat_minor": 5
}
