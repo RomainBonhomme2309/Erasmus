{
 "cells": [
  {
   "cell_type": "markdown",
   "metadata": {},
   "source": [
    "# Génération de contenu musical au format MIDI avec miditoolkit"
   ]
  },
  {
   "cell_type": "code",
   "execution_count": 13,
   "metadata": {},
   "outputs": [],
   "source": [
    "from miditoolkit import MidiFile, Instrument, Note\n",
    "import random\n",
    "import pretty_midi"
   ]
  },
  {
   "cell_type": "markdown",
   "metadata": {},
   "source": [
    "# Partie 1"
   ]
  },
  {
   "cell_type": "markdown",
   "metadata": {},
   "source": [
    "### Partie 1.1"
   ]
  },
  {
   "cell_type": "code",
   "execution_count": 4,
   "metadata": {},
   "outputs": [
    {
     "name": "stdout",
     "output_type": "stream",
     "text": [
      "Résolution par défaut : 480\n"
     ]
    }
   ],
   "source": [
    "midi_file = MidiFile()\n",
    "print(\"Résolution par défaut :\", midi_file.ticks_per_beat)"
   ]
  },
  {
   "cell_type": "markdown",
   "metadata": {},
   "source": [
    "### Partie 1.2"
   ]
  },
  {
   "cell_type": "code",
   "execution_count": 6,
   "metadata": {},
   "outputs": [
    {
     "name": "stdout",
     "output_type": "stream",
     "text": [
      "Fichier MIDI avec une seule note créé : single_note.mid\n"
     ]
    }
   ],
   "source": [
    "midi_file = MidiFile()\n",
    "\n",
    "instrument = Instrument(program=0, is_drum=False, name=\"Single Note Track\")\n",
    "\n",
    "note = Note(velocity=80, pitch=60, start=0, end=480)\n",
    "instrument.notes.append(note)\n",
    "\n",
    "midi_file.instruments.append(instrument)\n",
    "\n",
    "midi_file.dump(\"single_note.mid\")\n",
    "print(\"Fichier MIDI avec une seule note créé : single_note.mid\")"
   ]
  },
  {
   "cell_type": "markdown",
   "metadata": {},
   "source": [
    "### Partie 1.3"
   ]
  },
  {
   "cell_type": "code",
   "execution_count": 7,
   "metadata": {},
   "outputs": [
    {
     "name": "stdout",
     "output_type": "stream",
     "text": [
      "Gamme chromatique montante créée : chromatic_scale_up.mid\n",
      "Gamme chromatique descendante créée : chromatic_scale_down.mid\n"
     ]
    }
   ],
   "source": [
    "def create_chromatic_scale(output_file, start_pitch=60, descending=False):\n",
    "    midi_file = MidiFile()\n",
    "    instrument = Instrument(program=0, name=\"Chromatic Scale\")\n",
    "\n",
    "    pitch_range = range(start_pitch, start_pitch + 12) if not descending else range(start_pitch + 11, start_pitch - 1, -1)\n",
    "    time = 0\n",
    "\n",
    "    for pitch in pitch_range:\n",
    "        note = Note(velocity=80, pitch=pitch, start=time, end=time + 480)\n",
    "        instrument.notes.append(note)\n",
    "        time += 480\n",
    "\n",
    "    midi_file.instruments.append(instrument)\n",
    "    midi_file.dump(output_file)\n",
    "    print(f\"Gamme chromatique {'descendante' if descending else 'montante'} créée : {output_file}\")\n",
    "\n",
    "create_chromatic_scale(\"chromatic_scale_up.mid\", start_pitch=60, descending=False)\n",
    "create_chromatic_scale(\"chromatic_scale_down.mid\", start_pitch=60, descending=True)\n"
   ]
  },
  {
   "cell_type": "markdown",
   "metadata": {},
   "source": [
    "### Partie 1.4"
   ]
  },
  {
   "cell_type": "code",
   "execution_count": 8,
   "metadata": {},
   "outputs": [
    {
     "name": "stdout",
     "output_type": "stream",
     "text": [
      "Gamme personnalisée montante créée : diatonic_scale_up.mid\n",
      "Gamme personnalisée descendante créée : diatonic_scale_down.mid\n"
     ]
    }
   ],
   "source": [
    "def create_scale(output_file, scale_intervals, start_pitch=60, descending=False):\n",
    "    midi_file = MidiFile()\n",
    "    instrument = Instrument(program=0, name=\"Custom Scale\")\n",
    "\n",
    "    intervals = scale_intervals[::-1] if descending else scale_intervals\n",
    "    time = 0\n",
    "    pitch = start_pitch\n",
    "\n",
    "    for interval in intervals:\n",
    "        note = Note(velocity=80, pitch=pitch, start=time, end=time + 480)\n",
    "        instrument.notes.append(note)\n",
    "        time += 480\n",
    "        pitch += -interval if descending else interval\n",
    "\n",
    "    midi_file.instruments.append(instrument)\n",
    "    midi_file.dump(output_file)\n",
    "    print(f\"Gamme personnalisée {'descendante' if descending else 'montante'} créée : {output_file}\")\n",
    "\n",
    "create_scale(\"diatonic_scale_up.mid\", scale_intervals=[2, 2, 1, 2, 2, 2, 1], descending=False)\n",
    "create_scale(\"diatonic_scale_down.mid\", scale_intervals=[2, 2, 1, 2, 2, 2, 1], descending=True)"
   ]
  },
  {
   "cell_type": "markdown",
   "metadata": {},
   "source": [
    "### Partie 1.5"
   ]
  },
  {
   "cell_type": "code",
   "execution_count": 10,
   "metadata": {},
   "outputs": [
    {
     "name": "stdout",
     "output_type": "stream",
     "text": [
      "Séquence aléatoire créée : random_notes.mid\n"
     ]
    }
   ],
   "source": [
    "def random_note_sequence(output_file, scale_intervals, start_pitch=60):\n",
    "    midi_file = MidiFile()\n",
    "    instrument = Instrument(program=0, name=\"Random Notes\")\n",
    "\n",
    "    pitches = [start_pitch]\n",
    "    for interval in scale_intervals:\n",
    "        pitches.append(pitches[-1] + interval)\n",
    "\n",
    "    durations = [480, 960, 1920]\n",
    "    time = 0\n",
    "\n",
    "    for _ in range(10):\n",
    "        pitch = random.choice(pitches)\n",
    "        duration = random.choice(durations)\n",
    "        note = Note(velocity=80, pitch=pitch, start=time, end=time + duration)\n",
    "        instrument.notes.append(note)\n",
    "        time += duration\n",
    "\n",
    "    midi_file.instruments.append(instrument)\n",
    "    midi_file.dump(output_file)\n",
    "    print(f\"Séquence aléatoire créée : {output_file}\")\n",
    "\n",
    "random_note_sequence(\"random_notes.mid\", scale_intervals=[2, 2, 1, 2, 2, 2, 1])"
   ]
  },
  {
   "cell_type": "markdown",
   "metadata": {},
   "source": [
    "### Partie 1.6"
   ]
  },
  {
   "cell_type": "code",
   "execution_count": 11,
   "metadata": {},
   "outputs": [
    {
     "name": "stdout",
     "output_type": "stream",
     "text": [
      "Séquence avec silences créée : random_notes_with_silence.mid\n"
     ]
    }
   ],
   "source": [
    "def random_sequence_with_silence(output_file, scale_intervals, start_pitch=60):\n",
    "    midi_file = MidiFile()\n",
    "    instrument = Instrument(program=0, name=\"Random Notes with Silence\")\n",
    "\n",
    "    pitches = [start_pitch]\n",
    "    for interval in scale_intervals:\n",
    "        pitches.append(pitches[-1] + interval)\n",
    "\n",
    "    durations = [480, 960, 1920]\n",
    "    time = 0\n",
    "\n",
    "    for _ in range(10):\n",
    "        is_silence = random.choice([True, False])\n",
    "        duration = random.choice(durations)\n",
    "\n",
    "        if not is_silence:\n",
    "            pitch = random.choice(pitches)\n",
    "            note = Note(velocity=80, pitch=pitch, start=time, end=time + duration)\n",
    "            instrument.notes.append(note)\n",
    "\n",
    "        time += duration\n",
    "\n",
    "    midi_file.instruments.append(instrument)\n",
    "    midi_file.dump(output_file)\n",
    "    print(f\"Séquence avec silences créée : {output_file}\")\n",
    "\n",
    "random_sequence_with_silence(\"random_notes_with_silence.mid\", scale_intervals=[2, 2, 1, 2, 2, 2, 1])"
   ]
  },
  {
   "cell_type": "markdown",
   "metadata": {},
   "source": [
    "### Ecoute du fichier Midi"
   ]
  },
  {
   "cell_type": "code",
   "execution_count": 14,
   "metadata": {},
   "outputs": [
    {
     "name": "stdout",
     "output_type": "stream",
     "text": [
      "Instruments : Random Notes with Silence\n"
     ]
    }
   ],
   "source": [
    "midi_data = pretty_midi.PrettyMIDI(\"random_notes_with_silence.mid\")\n",
    "for instrument in midi_data.instruments:\n",
    "    print(f\"Instruments : {instrument.name}\")"
   ]
  }
 ],
 "metadata": {
  "kernelspec": {
   "display_name": "venv",
   "language": "python",
   "name": "python3"
  },
  "language_info": {
   "codemirror_mode": {
    "name": "ipython",
    "version": 3
   },
   "file_extension": ".py",
   "mimetype": "text/x-python",
   "name": "python",
   "nbconvert_exporter": "python",
   "pygments_lexer": "ipython3",
   "version": "3.12.3"
  }
 },
 "nbformat": 4,
 "nbformat_minor": 2
}
