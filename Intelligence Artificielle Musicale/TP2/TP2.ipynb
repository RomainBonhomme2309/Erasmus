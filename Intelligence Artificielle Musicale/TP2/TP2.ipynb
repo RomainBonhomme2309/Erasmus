{
 "cells": [
  {
   "cell_type": "markdown",
   "metadata": {},
   "source": [
    "# Génération de contenu musical au format MIDI avec miditoolkit"
   ]
  },
  {
   "cell_type": "code",
   "execution_count": 46,
   "metadata": {},
   "outputs": [],
   "source": [
    "from miditoolkit import MidiFile, Instrument, Note\n",
    "import random\n",
    "import pretty_midi\n",
    "\n",
    "import matplotlib.pyplot as plt\n",
    "from collections import Counter\n",
    "import os\n",
    "\n",
    "import numpy as np"
   ]
  },
  {
   "cell_type": "markdown",
   "metadata": {},
   "source": [
    "# Partie 1"
   ]
  },
  {
   "cell_type": "markdown",
   "metadata": {},
   "source": [
    "### Partie 1.1"
   ]
  },
  {
   "cell_type": "code",
   "execution_count": 2,
   "metadata": {},
   "outputs": [
    {
     "name": "stdout",
     "output_type": "stream",
     "text": [
      "Résolution par défaut : 480\n"
     ]
    }
   ],
   "source": [
    "midi_file = MidiFile()\n",
    "print(\"Résolution par défaut :\", midi_file.ticks_per_beat)"
   ]
  },
  {
   "cell_type": "markdown",
   "metadata": {},
   "source": [
    "### Partie 1.2"
   ]
  },
  {
   "cell_type": "code",
   "execution_count": 3,
   "metadata": {},
   "outputs": [
    {
     "name": "stdout",
     "output_type": "stream",
     "text": [
      "Fichier MIDI avec une seule note créé : single_note.mid\n"
     ]
    }
   ],
   "source": [
    "midi_file = MidiFile()\n",
    "\n",
    "instrument = Instrument(program=0, is_drum=False, name=\"Single Note Track\")\n",
    "\n",
    "note = Note(velocity=80, pitch=60, start=0, end=480)\n",
    "instrument.notes.append(note)\n",
    "\n",
    "midi_file.instruments.append(instrument)\n",
    "\n",
    "midi_file.dump(\"single_note.mid\")\n",
    "print(\"Fichier MIDI avec une seule note créé : single_note.mid\")"
   ]
  },
  {
   "cell_type": "markdown",
   "metadata": {},
   "source": [
    "### Partie 1.3"
   ]
  },
  {
   "cell_type": "code",
   "execution_count": 4,
   "metadata": {},
   "outputs": [
    {
     "name": "stdout",
     "output_type": "stream",
     "text": [
      "Gamme chromatique montante créée : chromatic_scale_up.mid\n",
      "Gamme chromatique descendante créée : chromatic_scale_down.mid\n"
     ]
    }
   ],
   "source": [
    "def create_chromatic_scale(output_file, start_pitch=60, descending=False):\n",
    "    midi_file = MidiFile()\n",
    "    instrument = Instrument(program=0, name=\"Chromatic Scale\")\n",
    "\n",
    "    pitch_range = range(start_pitch, start_pitch + 12) if not descending else range(start_pitch + 11, start_pitch - 1, -1)\n",
    "    time = 0\n",
    "\n",
    "    for pitch in pitch_range:\n",
    "        note = Note(velocity=80, pitch=pitch, start=time, end=time + 480)\n",
    "        instrument.notes.append(note)\n",
    "        time += 480\n",
    "\n",
    "    midi_file.instruments.append(instrument)\n",
    "    midi_file.dump(output_file)\n",
    "    print(f\"Gamme chromatique {'descendante' if descending else 'montante'} créée : {output_file}\")\n",
    "\n",
    "create_chromatic_scale(\"chromatic_scale_up.mid\", start_pitch=60, descending=False)\n",
    "create_chromatic_scale(\"chromatic_scale_down.mid\", start_pitch=60, descending=True)\n"
   ]
  },
  {
   "cell_type": "markdown",
   "metadata": {},
   "source": [
    "### Partie 1.4"
   ]
  },
  {
   "cell_type": "code",
   "execution_count": 5,
   "metadata": {},
   "outputs": [
    {
     "name": "stdout",
     "output_type": "stream",
     "text": [
      "Gamme personnalisée montante créée : diatonic_scale_up.mid\n",
      "Gamme personnalisée descendante créée : diatonic_scale_down.mid\n"
     ]
    }
   ],
   "source": [
    "def create_scale(output_file, scale_intervals, start_pitch=60, descending=False):\n",
    "    midi_file = MidiFile()\n",
    "    instrument = Instrument(program=0, name=\"Custom Scale\")\n",
    "\n",
    "    intervals = scale_intervals[::-1] if descending else scale_intervals\n",
    "    time = 0\n",
    "    pitch = start_pitch\n",
    "\n",
    "    for interval in intervals:\n",
    "        note = Note(velocity=80, pitch=pitch, start=time, end=time + 480)\n",
    "        instrument.notes.append(note)\n",
    "        time += 480\n",
    "        pitch += -interval if descending else interval\n",
    "\n",
    "    midi_file.instruments.append(instrument)\n",
    "    midi_file.dump(output_file)\n",
    "    print(f\"Gamme personnalisée {'descendante' if descending else 'montante'} créée : {output_file}\")\n",
    "\n",
    "create_scale(\"diatonic_scale_up.mid\", scale_intervals=[2, 2, 1, 2, 2, 2, 1], descending=False)\n",
    "create_scale(\"diatonic_scale_down.mid\", scale_intervals=[2, 2, 1, 2, 2, 2, 1], descending=True)"
   ]
  },
  {
   "cell_type": "markdown",
   "metadata": {},
   "source": [
    "### Partie 1.5"
   ]
  },
  {
   "cell_type": "code",
   "execution_count": 6,
   "metadata": {},
   "outputs": [
    {
     "name": "stdout",
     "output_type": "stream",
     "text": [
      "Séquence aléatoire créée : random_notes.mid\n"
     ]
    }
   ],
   "source": [
    "def random_note_sequence(output_file, scale_intervals, start_pitch=60):\n",
    "    midi_file = MidiFile()\n",
    "    instrument = Instrument(program=0, name=\"Random Notes\")\n",
    "\n",
    "    pitches = [start_pitch]\n",
    "    for interval in scale_intervals:\n",
    "        pitches.append(pitches[-1] + interval)\n",
    "\n",
    "    durations = [480, 960, 1920]\n",
    "    time = 0\n",
    "\n",
    "    for _ in range(10):\n",
    "        pitch = random.choice(pitches)\n",
    "        duration = random.choice(durations)\n",
    "        note = Note(velocity=80, pitch=pitch, start=time, end=time + duration)\n",
    "        instrument.notes.append(note)\n",
    "        time += duration\n",
    "\n",
    "    midi_file.instruments.append(instrument)\n",
    "    midi_file.dump(output_file)\n",
    "    print(f\"Séquence aléatoire créée : {output_file}\")\n",
    "\n",
    "random_note_sequence(\"random_notes.mid\", scale_intervals=[2, 2, 1, 2, 2, 2, 1])"
   ]
  },
  {
   "cell_type": "markdown",
   "metadata": {},
   "source": [
    "### Partie 1.6"
   ]
  },
  {
   "cell_type": "code",
   "execution_count": 7,
   "metadata": {},
   "outputs": [
    {
     "name": "stdout",
     "output_type": "stream",
     "text": [
      "Séquence avec silences créée : random_notes_with_silence.mid\n"
     ]
    }
   ],
   "source": [
    "def random_sequence_with_silence(output_file, scale_intervals, start_pitch=60):\n",
    "    midi_file = MidiFile()\n",
    "    instrument = Instrument(program=0, name=\"Random Notes with Silence\")\n",
    "\n",
    "    pitches = [start_pitch]\n",
    "    for interval in scale_intervals:\n",
    "        pitches.append(pitches[-1] + interval)\n",
    "\n",
    "    durations = [480, 960, 1920]\n",
    "    time = 0\n",
    "\n",
    "    for _ in range(10):\n",
    "        is_silence = random.choice([True, False])\n",
    "        duration = random.choice(durations)\n",
    "\n",
    "        if not is_silence:\n",
    "            pitch = random.choice(pitches)\n",
    "            note = Note(velocity=80, pitch=pitch, start=time, end=time + duration)\n",
    "            instrument.notes.append(note)\n",
    "\n",
    "        time += duration\n",
    "\n",
    "    midi_file.instruments.append(instrument)\n",
    "    midi_file.dump(output_file)\n",
    "    print(f\"Séquence avec silences créée : {output_file}\")\n",
    "\n",
    "random_sequence_with_silence(\"random_notes_with_silence.mid\", scale_intervals=[2, 2, 1, 2, 2, 2, 1])"
   ]
  },
  {
   "cell_type": "markdown",
   "metadata": {},
   "source": [
    "# Partie 2"
   ]
  },
  {
   "cell_type": "markdown",
   "metadata": {},
   "source": [
    "### Partie 2.1"
   ]
  },
  {
   "cell_type": "code",
   "execution_count": 14,
   "metadata": {},
   "outputs": [
    {
     "name": "stdout",
     "output_type": "stream",
     "text": [
      "Track 0: , 63 notes\n"
     ]
    }
   ],
   "source": [
    "midi_file_path = 'Partie2/shanxi-802.mid'\n",
    "midi = MidiFile(midi_file_path)\n",
    "\n",
    "for i, track in enumerate(midi.instruments):\n",
    "    print(f\"Track {i}: {track.name}, {len(track.notes)} notes\")\n",
    "\n",
    "pm = pretty_midi.PrettyMIDI(midi_file_path)\n",
    "audio_data = pm.synthesize(fs=44100)\n",
    "with open('Partie2/output_audio.wav', 'wb') as audio_file:\n",
    "    audio_file.write(audio_data)"
   ]
  },
  {
   "cell_type": "markdown",
   "metadata": {},
   "source": [
    "### Partie 2.2"
   ]
  },
  {
   "cell_type": "code",
   "execution_count": 17,
   "metadata": {},
   "outputs": [
    {
     "data": {
      "image/png": "[encoded data removed]",
      "text/plain": [
       "<Figure size 1000x600 with 3 Axes>"
      ]
     },
     "metadata": {},
     "output_type": "display_data"
    }
   ],
   "source": [
    "midi_file_path = 'Partie2/shanxi-802.mid'\n",
    "midi = MidiFile(midi_file_path)\n",
    "\n",
    "note_pitches = []\n",
    "note_durations = []\n",
    "note_intervals = []\n",
    "\n",
    "for track in midi.instruments:\n",
    "    if not track.is_drum:  # Ignorer les pistes de percussions\n",
    "        track_notes = sorted(track.notes, key=lambda x: x.start)\n",
    "        note_pitches.extend([note.pitch for note in track_notes])\n",
    "        note_durations.extend([note.end - note.start for note in track_notes])\n",
    "        note_intervals.extend(\n",
    "            [track_notes[i + 1].pitch - track_notes[i].pitch for i in range(len(track_notes) - 1)]\n",
    "        )\n",
    "\n",
    "plt.figure(figsize=(10, 6))\n",
    "\n",
    "# Distribution des hauteurs de notes\n",
    "plt.subplot(3, 1, 1)\n",
    "plt.hist(note_pitches, bins=range(0, 128), color='blue', alpha=0.7, edgecolor='black')\n",
    "plt.title(r'Distribution des hauteurs de notes')\n",
    "plt.xlabel(r'Hauteur (pitch)')\n",
    "plt.ylabel(r\"Nombre d'occurrences\")\n",
    "\n",
    "# Distribution des durées de notes\n",
    "plt.subplot(3, 1, 2)\n",
    "plt.hist(note_durations, bins=50, color='green', alpha=0.7, edgecolor='black')\n",
    "plt.title(r'Distribution des durées de notes (en pulsations)')\n",
    "plt.xlabel(r'Durée (pulsations)')\n",
    "plt.ylabel(r\"Nombre d'occurrences\")\n",
    "\n",
    "# Distribution des intervalles entre hauteurs consécutives\n",
    "plt.subplot(3, 1, 3)\n",
    "plt.hist(note_intervals, bins=range(-50, 51), color='purple', alpha=0.7, edgecolor='black')\n",
    "plt.title(r'Distribution des intervalles entre hauteurs consécutives')\n",
    "plt.xlabel(r'Intervalle (différence de pitch)')\n",
    "plt.ylabel(r\"Nombre d'occurrences\")\n",
    "\n",
    "plt.tight_layout()\n",
    "plt.show()"
   ]
  },
  {
   "cell_type": "markdown",
   "metadata": {},
   "source": [
    "### Partie 2.3"
   ]
  },
  {
   "cell_type": "code",
   "execution_count": 36,
   "metadata": {},
   "outputs": [],
   "source": [
    "# Fonction pour obtenir une distribution à partir d'une liste de valeurs\n",
    "def get_distribution(values):\n",
    "    distribution = dict(Counter(values))\n",
    "    sorted_distribution = dict(sorted(distribution.items()))\n",
    "    return sorted_distribution\n",
    "\n",
    "# Fonction pour échantillonner un élément en fonction d'une distribution\n",
    "def sample_from_distribution(distribution):\n",
    "    elements, counts = zip(*distribution.items())\n",
    "    total_count = sum(counts)\n",
    "    probabilities = [count / total_count for count in counts]\n",
    "    return random.choices(elements, probabilities, k=1)[0]"
   ]
  },
  {
   "cell_type": "code",
   "execution_count": 37,
   "metadata": {},
   "outputs": [
    {
     "name": "stdout",
     "output_type": "stream",
     "text": [
      "Distribution : {'a': 5, 'b': 2, 'c': 1, 'd': 1, 'r': 2}\n",
      "Échantillon tiré : a\n"
     ]
    }
   ],
   "source": [
    "example_values = \"abracadabra\"\n",
    "distribution = get_distribution(example_values)\n",
    "print(\"Distribution :\", distribution)\n",
    "\n",
    "sampled_value = sample_from_distribution(distribution)\n",
    "print(\"Échantillon tiré :\", sampled_value)"
   ]
  },
  {
   "cell_type": "code",
   "execution_count": 63,
   "metadata": {},
   "outputs": [
    {
     "name": "stdout",
     "output_type": "stream",
     "text": [
      "Fichier MIDI généré : Partie2/Random_Sampling_2_3.mid\n"
     ]
    }
   ],
   "source": [
    "# Obtenir les distributions des hauteurs et des durées\n",
    "pitch_distribution = get_distribution(note_pitches)\n",
    "duration_distribution = get_distribution(note_durations)\n",
    "\n",
    "melody = []\n",
    "previous_pitch = random.choice(note_pitches)  # Commencer avec une hauteur aléatoire\n",
    "current_time = 0\n",
    "\n",
    "for _ in range(30):\n",
    "    pitch = sample_from_distribution(pitch_distribution)  # Hauteur aléatoire\n",
    "    duration = sample_from_distribution(duration_distribution)  # Durée aléatoire\n",
    "\n",
    "    note = Note(\n",
    "        pitch=pitch,\n",
    "        start=current_time,\n",
    "        end=current_time + duration,\n",
    "        velocity=100\n",
    "    )\n",
    "\n",
    "    melody.append(note)\n",
    "    current_time += duration  # Mettre à jour le temps de début pour la prochaine note\n",
    "\n",
    "output_midi_path = 'Partie2/Random_Sampling_2_3.mid'\n",
    "midi_out = MidiFile()\n",
    "instrument = Instrument(program=0)\n",
    "instrument.notes = melody\n",
    "midi_out.instruments.append(instrument)\n",
    "\n",
    "midi_out.dump(output_midi_path)\n",
    "print(f\"Fichier MIDI généré : {output_midi_path}\")"
   ]
  },
  {
   "cell_type": "markdown",
   "metadata": {},
   "source": [
    "### Partie 2.4"
   ]
  },
  {
   "cell_type": "code",
   "execution_count": 64,
   "metadata": {},
   "outputs": [
    {
     "name": "stdout",
     "output_type": "stream",
     "text": [
      "Fichier MIDI généré : Partie2/Random_Sampling_2_4.mid\n"
     ]
    }
   ],
   "source": [
    "# Calculer les intervalles entre les hauteurs consécutives\n",
    "intervals = [note_pitches[i+1] - note_pitches[i] for i in range(len(note_pitches)-1)]\n",
    "interval_distribution = get_distribution(intervals)\n",
    "\n",
    "\n",
    "melody = []\n",
    "previous_pitch = random.choice(note_pitches)  # Première hauteur aléatoire\n",
    "current_time = 0\n",
    "\n",
    "for _ in range(30):\n",
    "    if len(melody) == 0:\n",
    "        # Première note : tirée de la distribution des hauteurs\n",
    "        pitch = sample_from_distribution(pitch_distribution)\n",
    "    else:\n",
    "        # Notes suivantes : tirées par intervalle à partir de la précédente\n",
    "        interval = sample_from_distribution(interval_distribution)\n",
    "        pitch = previous_pitch + interval\n",
    "\n",
    "    duration = sample_from_distribution(duration_distribution)  # Durée aléatoire\n",
    "\n",
    "    note = Note(\n",
    "        pitch=pitch,\n",
    "        start=current_time,\n",
    "        end=current_time + duration,\n",
    "        velocity=100\n",
    "    )\n",
    "\n",
    "    melody.append(note)\n",
    "    previous_pitch = pitch  # Mettre à jour la hauteur précédente\n",
    "    current_time += duration  # Mettre à jour le temps de début pour la prochaine note\n",
    "\n",
    "output_midi_path = 'Partie2/Random_Sampling_2_4.mid'\n",
    "midi_out = MidiFile()\n",
    "instrument = Instrument(program=0)\n",
    "instrument.notes = melody\n",
    "midi_out.instruments.append(instrument)\n",
    "\n",
    "midi_out.dump(output_midi_path)\n",
    "print(f\"Fichier MIDI généré : {output_midi_path}\")"
   ]
  },
  {
   "cell_type": "markdown",
   "metadata": {},
   "source": [
    "# Partie 3"
   ]
  },
  {
   "cell_type": "markdown",
   "metadata": {},
   "source": [
    "### Partie 3.1"
   ]
  },
  {
   "cell_type": "code",
   "execution_count": 65,
   "metadata": {},
   "outputs": [],
   "source": [
    "# Fonction pour calculer la matrice de transition\n",
    "def compute_transition_matrix(values):\n",
    "    unique_values = sorted(set(values))\n",
    "    matrix_size = len(unique_values)\n",
    "    transition_matrix = np.zeros((matrix_size, matrix_size), dtype=int)\n",
    "\n",
    "    value_to_index = {value: idx for idx, value in enumerate(unique_values)}\n",
    "    \n",
    "    # Remplir la matrice de transition\n",
    "    for i in range(1, len(values)):\n",
    "        current_value = values[i-1]\n",
    "        next_value = values[i]\n",
    "        current_idx = value_to_index[current_value]\n",
    "        next_idx = value_to_index[next_value]\n",
    "        transition_matrix[current_idx, next_idx] += 1\n",
    "    \n",
    "    return unique_values, transition_matrix"
   ]
  },
  {
   "cell_type": "code",
   "execution_count": 66,
   "metadata": {},
   "outputs": [
    {
     "name": "stdout",
     "output_type": "stream",
     "text": [
      "Matrice de transition des hauteurs :\n",
      "[[0, 0, 0, 1, 1, 0, 0, 0, 0],\n",
      " [3, 0, 0, 2, 0, 0, 0, 0, 0],\n",
      " [0, 0, 0, 1, 0, 0, 0, 0, 0],\n",
      " [0, 1, 1, 0, 4, 0, 0, 1, 0],\n",
      " [0, 4, 0, 2, 4, 6, 0, 4, 0],\n",
      " [0, 0, 0, 0, 7, 0, 0, 4, 0],\n",
      " [0, 0, 0, 0, 0, 1, 0, 0, 0],\n",
      " [0, 0, 0, 1, 4, 4, 1, 1, 2],\n",
      " [0, 0, 0, 0, 0, 0, 0, 2, 0]]\n",
      "\n",
      "\n",
      "Matrice de transition des durées :\n",
      "[[37,  8,  0,  3],\n",
      " [ 7,  2,  0,  1],\n",
      " [ 1,  0,  0,  0],\n",
      " [ 2,  0,  1,  0]]\n",
      "\n",
      "\n",
      "Matrice de transition des intervalles :\n",
      "[[0, 0, 0, 0, 0, 0, 0, 1, 0, 0, 0],\n",
      " [0, 0, 0, 2, 0, 1, 0, 3, 2, 0, 0],\n",
      " [0, 0, 0, 4, 0, 0, 0, 0, 1, 0, 0],\n",
      " [0, 2, 3, 1, 1, 0, 0, 3, 0, 3, 1],\n",
      " [0, 0, 0, 1, 0, 0, 1, 0, 0, 0, 0],\n",
      " [1, 1, 0, 0, 0, 2, 0, 0, 0, 1, 0],\n",
      " [0, 0, 0, 0, 0, 0, 0, 1, 0, 0, 0],\n",
      " [0, 1, 0, 6, 0, 1, 0, 0, 3, 1, 0],\n",
      " [0, 4, 0, 0, 0, 0, 0, 1, 0, 0, 1],\n",
      " [0, 0, 0, 1, 1, 1, 0, 2, 0, 0, 0],\n",
      " [0, 0, 1, 0, 0, 0, 0, 1, 0, 0, 0]]\n"
     ]
    }
   ],
   "source": [
    "midi_file_path = 'Partie2/shanxi-802.mid'\n",
    "midi = MidiFile(midi_file_path)\n",
    "\n",
    "note_pitches = []\n",
    "note_durations = []\n",
    "note_intervals = []\n",
    "\n",
    "for track in midi.instruments:\n",
    "    if not track.is_drum:  # Ignorer les pistes de percussions\n",
    "        track_notes = sorted(track.notes, key=lambda x: x.start)\n",
    "        note_pitches.extend([note.pitch for note in track_notes])\n",
    "        note_durations.extend([note.end - note.start for note in track_notes])\n",
    "        note_intervals.extend([note_pitches[i+1] - note_pitches[i] for i in range(len(note_pitches)-1)])\n",
    "\n",
    "height_values, height_transition_matrix = compute_transition_matrix(note_pitches)\n",
    "duration_values, duration_transition_matrix = compute_transition_matrix(note_durations)\n",
    "interval_values, interval_transition_matrix = compute_transition_matrix(note_intervals)\n",
    "\n",
    "print(\"Matrice de transition des hauteurs :\")\n",
    "print(np.array2string(height_transition_matrix, separator=', '))\n",
    "print(\"\\n\")\n",
    "\n",
    "print(\"Matrice de transition des durées :\")\n",
    "print(np.array2string(duration_transition_matrix, separator=', '))\n",
    "print(\"\\n\")\n",
    "\n",
    "print(\"Matrice de transition des intervalles :\")\n",
    "print(np.array2string(interval_transition_matrix, separator=', '))"
   ]
  },
  {
   "cell_type": "markdown",
   "metadata": {},
   "source": [
    "### Partie 3.2"
   ]
  },
  {
   "cell_type": "code",
   "execution_count": 67,
   "metadata": {},
   "outputs": [
    {
     "name": "stdout",
     "output_type": "stream",
     "text": [
      "Fichier MIDI généré : Partie3/Transition_Maximizing_Melody.mid\n"
     ]
    }
   ],
   "source": [
    "# Fonction pour échantillonner la valeur suivante en maximisant la probabilité de transition\n",
    "def sample_from_transition_matrix(transition_matrix, current_idx):\n",
    "    probabilities = transition_matrix[current_idx] / transition_matrix[current_idx].sum()\n",
    "    next_idx = np.argmax(probabilities)  # Choisir l'indice avec la probabilité maximale\n",
    "    return next_idx\n",
    "\n",
    "melody = []\n",
    "previous_pitch = random.choice(note_pitches)  # Première hauteur aléatoire\n",
    "previous_duration = random.choice(note_durations)  # Première durée aléatoire\n",
    "current_time = 0\n",
    "\n",
    "for _ in range(30):\n",
    "    # Sélectionner la hauteur suivante (en maximisant la probabilité de transition)\n",
    "    current_pitch_idx = height_values.index(previous_pitch)\n",
    "    next_pitch_idx = sample_from_transition_matrix(height_transition_matrix, current_pitch_idx)\n",
    "    pitch = height_values[next_pitch_idx]\n",
    "    \n",
    "    # Sélectionner la durée suivante (en maximisant la probabilité de transition)\n",
    "    current_duration_idx = duration_values.index(previous_duration)\n",
    "    next_duration_idx = sample_from_transition_matrix(duration_transition_matrix, current_duration_idx)\n",
    "    duration = duration_values[next_duration_idx]\n",
    "\n",
    "    note = Note(\n",
    "        pitch=pitch,\n",
    "        start=current_time,\n",
    "        end=current_time + duration,\n",
    "        velocity=100\n",
    "    )\n",
    "\n",
    "    melody.append(note)\n",
    "    previous_pitch = pitch\n",
    "    previous_duration = duration\n",
    "    current_time += duration\n",
    "\n",
    "output_midi_path = 'Partie3/Transition_Maximizing_Melody.mid'\n",
    "midi_out = MidiFile()\n",
    "instrument = Instrument(program=0)\n",
    "instrument.notes = melody\n",
    "midi_out.instruments.append(instrument)\n",
    "midi_out.dump(output_midi_path)\n",
    "print(f\"Fichier MIDI généré : {output_midi_path}\")"
   ]
  },
  {
   "cell_type": "markdown",
   "metadata": {},
   "source": [
    "### Partie 3.3"
   ]
  },
  {
   "cell_type": "code",
   "execution_count": 68,
   "metadata": {},
   "outputs": [
    {
     "name": "stdout",
     "output_type": "stream",
     "text": [
      "Fichier MIDI généré : Partie3/Random_Transition_Melody.mid\n"
     ]
    }
   ],
   "source": [
    "melody = []\n",
    "previous_pitch = random.choice(note_pitches)  # Première hauteur aléatoire\n",
    "previous_duration = random.choice(note_durations)  # Première durée aléatoire\n",
    "current_time = 0\n",
    "\n",
    "for _ in range(30):\n",
    "    # Sélectionner la hauteur suivante en fonction de la matrice de transition\n",
    "    current_pitch_idx = height_values.index(previous_pitch)\n",
    "    next_pitch_idx = sample_from_transition_matrix(height_transition_matrix, current_pitch_idx)\n",
    "    pitch = height_values[next_pitch_idx]\n",
    "    \n",
    "    # Sélectionner la durée suivante en fonction de la matrice de transition\n",
    "    current_duration_idx = duration_values.index(previous_duration)\n",
    "    next_duration_idx = sample_from_transition_matrix(duration_transition_matrix, current_duration_idx)\n",
    "    duration = duration_values[next_duration_idx]\n",
    "\n",
    "    note = Note(\n",
    "        pitch=pitch,\n",
    "        start=current_time,\n",
    "        end=current_time + duration,\n",
    "        velocity=100\n",
    "    )\n",
    "\n",
    "    melody.append(note)\n",
    "    previous_pitch = pitch\n",
    "    previous_duration = duration\n",
    "    current_time += duration\n",
    "\n",
    "output_midi_path = 'Partie3/Random_Transition_Melody.mid'\n",
    "midi_out = MidiFile()\n",
    "instrument = Instrument(program=0)\n",
    "instrument.notes = melody\n",
    "midi_out.instruments.append(instrument)\n",
    "midi_out.dump(output_midi_path)\n",
    "print(f\"Fichier MIDI généré : {output_midi_path}\")"
   ]
  },
  {
   "cell_type": "markdown",
   "metadata": {},
   "source": [
    "# Partie 4"
   ]
  },
  {
   "cell_type": "markdown",
   "metadata": {},
   "source": [
    "### Partie 4.1"
   ]
  },
  {
   "cell_type": "code",
   "execution_count": 69,
   "metadata": {},
   "outputs": [
    {
     "name": "stdout",
     "output_type": "stream",
     "text": [
      "Matrice de transition pour les hauteurs (exemple) :\n",
      "[[0 1 0 0 0]\n",
      " [1 0 0 3 0]\n",
      " [0 0 0 0 0]\n",
      " [0 6 0 5 0]\n",
      " [0 0 2 0 0]]\n",
      "\n",
      "Matrice de transition pour les durées (exemple) :\n",
      "[[   14     3     2     0     0]\n",
      " [    3   266     1   263     2]\n",
      " [    0     3   323    17     4]\n",
      " [    2   116    10 25644    13]\n",
      " [    0     0     2     6   244]]\n"
     ]
    }
   ],
   "source": [
    "# Fonction pour extraire les hauteurs, durées et intervalles de chaque fichier MIDI\n",
    "def extract_midi_data(midi_file_path):\n",
    "    note_pitches = []\n",
    "    note_durations = []\n",
    "    note_intervals = []\n",
    "    \n",
    "    midi = MidiFile(midi_file_path)\n",
    "    for track in midi.instruments:\n",
    "        if not track.is_drum:  # Ignorer les pistes de percussions\n",
    "            track_notes = sorted(track.notes, key=lambda x: x.start)\n",
    "            note_pitches.extend([note.pitch for note in track_notes])\n",
    "            note_durations.extend([note.end - note.start for note in track_notes])\n",
    "            note_intervals.extend([note_pitches[i+1] - note_pitches[i] for i in range(len(note_pitches)-1)])\n",
    "    \n",
    "    return note_pitches, note_durations, note_intervals\n",
    "\n",
    "# Dossier contenant les fichiers MIDI du corpus\n",
    "midi_folder = 'Partie4/china'\n",
    "\n",
    "all_note_pitches = []\n",
    "all_note_durations = []\n",
    "all_note_intervals = []\n",
    "\n",
    "# Extraire les données de chaque fichier MIDI\n",
    "for midi_file_name in os.listdir(midi_folder):\n",
    "    if midi_file_name.endswith('.mid'):\n",
    "        midi_file_path = os.path.join(midi_folder, midi_file_name)\n",
    "        note_pitches, note_durations, note_intervals = extract_midi_data(midi_file_path)\n",
    "        all_note_pitches.extend(note_pitches)\n",
    "        all_note_durations.extend(note_durations)\n",
    "        all_note_intervals.extend(note_intervals)\n",
    "\n",
    "# Calculer les matrices de transition pour les hauteurs, durées et intervalles\n",
    "height_values, height_transition_matrix = compute_transition_matrix(all_note_pitches)\n",
    "duration_values, duration_transition_matrix = compute_transition_matrix(all_note_durations)\n",
    "interval_values, interval_transition_matrix = compute_transition_matrix(all_note_intervals)\n",
    "\n",
    "print(\"Matrice de transition pour les hauteurs (exemple) :\")\n",
    "print(height_transition_matrix[:5, :5])\n",
    "print(\"\\nMatrice de transition pour les durées (exemple) :\")\n",
    "print(duration_transition_matrix[:5, :5])"
   ]
  },
  {
   "cell_type": "markdown",
   "metadata": {},
   "source": [
    "### Partie 4.2"
   ]
  },
  {
   "cell_type": "code",
   "execution_count": 71,
   "metadata": {},
   "outputs": [
    {
     "name": "stdout",
     "output_type": "stream",
     "text": [
      "Fichier MIDI généré : Partie4/Random_Melody_from_Transitions.mid\n"
     ]
    }
   ],
   "source": [
    "# Fonction pour générer la mélodie par marche aléatoire\n",
    "def generate_random_melody(transition_matrices, values_list, length=30):\n",
    "    melody = []\n",
    "    \n",
    "    # Initialiser la première note de manière aléatoire\n",
    "    current_height_idx = random.choice(range(len(values_list[0])))  # Hauteur initiale\n",
    "    current_duration_idx = random.choice(range(len(values_list[1])))  # Durée initiale\n",
    "    current_interval_idx = random.choice(range(len(values_list[2])))  # Intervalle initial\n",
    "    \n",
    "    current_pitch = values_list[0][current_height_idx]\n",
    "    current_duration = values_list[1][current_duration_idx]\n",
    "    current_interval = values_list[2][current_interval_idx]\n",
    "    \n",
    "    current_time = 0\n",
    "    \n",
    "    for _ in range(length):\n",
    "        note = Note(\n",
    "            pitch=current_pitch,\n",
    "            start=current_time,\n",
    "            end=current_time + current_duration,\n",
    "            velocity=100\n",
    "        )\n",
    "        melody.append(note)\n",
    "        \n",
    "        # Mettre à jour la hauteur en fonction de la transition de hauteur\n",
    "        current_height_idx = sample_from_transition_matrix(transition_matrices[0], current_height_idx)\n",
    "        current_pitch = values_list[0][current_height_idx]\n",
    "        \n",
    "        # Mettre à jour la durée en fonction de la transition de durée\n",
    "        current_duration_idx = sample_from_transition_matrix(transition_matrices[1], current_duration_idx)\n",
    "        current_duration = values_list[1][current_duration_idx]\n",
    "        \n",
    "        # Mettre à jour l'intervalle en fonction de la transition d'intervalle\n",
    "        current_interval_idx = sample_from_transition_matrix(transition_matrices[2], current_interval_idx)\n",
    "        current_interval = values_list[2][current_interval_idx]\n",
    "        \n",
    "        current_pitch += current_interval\n",
    "        current_time += current_duration\n",
    "    \n",
    "    return melody\n",
    "\n",
    "values_list = [height_values, duration_values, interval_values]\n",
    "melody = generate_random_melody(\n",
    "    [height_transition_matrix, duration_transition_matrix, interval_transition_matrix],\n",
    "    values_list,\n",
    "    length=30\n",
    ")\n",
    "\n",
    "output_midi_path = 'Partie4/Random_Melody_from_Transitions.mid'\n",
    "midi_out = MidiFile()\n",
    "instrument = Instrument(program=0)\n",
    "instrument.notes = melody\n",
    "midi_out.instruments.append(instrument)\n",
    "midi_out.dump(output_midi_path)\n",
    "print(f\"Fichier MIDI généré : {output_midi_path}\")"
   ]
  },
  {
   "cell_type": "markdown",
   "metadata": {},
   "source": [
    "### Partie 4.3"
   ]
  },
  {
   "cell_type": "code",
   "execution_count": 80,
   "metadata": {},
   "outputs": [
    {
     "ename": "ValueError",
     "evalue": "102 is not in list",
     "output_type": "error",
     "traceback": [
      "\u001b[0;31m---------------------------------------------------------------------------\u001b[0m",
      "\u001b[0;31mValueError\u001b[0m                                Traceback (most recent call last)",
      "Cell \u001b[0;32mIn[80], line 52\u001b[0m\n\u001b[1;32m     48\u001b[0m             best_melody \u001b[38;5;241m=\u001b[39m melody\n\u001b[1;32m     50\u001b[0m     \u001b[38;5;28;01mreturn\u001b[39;00m best_melody, best_log_prob\n\u001b[0;32m---> 52\u001b[0m best_melody, best_log_prob \u001b[38;5;241m=\u001b[39m \u001b[43mgenerate_best_melody\u001b[49m\u001b[43m(\u001b[49m\n\u001b[1;32m     53\u001b[0m \u001b[43m    \u001b[49m\u001b[43m[\u001b[49m\u001b[43mheight_transition_matrix\u001b[49m\u001b[43m,\u001b[49m\u001b[43m \u001b[49m\u001b[43mduration_transition_matrix\u001b[49m\u001b[43m,\u001b[49m\u001b[43m \u001b[49m\u001b[43minterval_transition_matrix\u001b[49m\u001b[43m]\u001b[49m\u001b[43m,\u001b[49m\n\u001b[1;32m     54\u001b[0m \u001b[43m    \u001b[49m\u001b[43mvalues_list\u001b[49m\u001b[43m,\u001b[49m\n\u001b[1;32m     55\u001b[0m \u001b[43m    \u001b[49m\u001b[43mnum_melodies\u001b[49m\u001b[38;5;241;43m=\u001b[39;49m\u001b[38;5;241;43m1000\u001b[39;49m\u001b[43m,\u001b[49m\n\u001b[1;32m     56\u001b[0m \u001b[43m    \u001b[49m\u001b[43mlength\u001b[49m\u001b[38;5;241;43m=\u001b[39;49m\u001b[38;5;241;43m30\u001b[39;49m\n\u001b[1;32m     57\u001b[0m \u001b[43m)\u001b[49m\n\u001b[1;32m     59\u001b[0m output_midi_path \u001b[38;5;241m=\u001b[39m \u001b[38;5;124m'\u001b[39m\u001b[38;5;124mPartie4/Best_Random_Melody_from_Transitions.mid\u001b[39m\u001b[38;5;124m'\u001b[39m\n\u001b[1;32m     60\u001b[0m midi_out \u001b[38;5;241m=\u001b[39m MidiFile()\n",
      "Cell \u001b[0;32mIn[80], line 43\u001b[0m, in \u001b[0;36mgenerate_best_melody\u001b[0;34m(transition_matrices, values_list, num_melodies, length)\u001b[0m\n\u001b[1;32m     41\u001b[0m \u001b[38;5;28;01mfor\u001b[39;00m _ \u001b[38;5;129;01min\u001b[39;00m \u001b[38;5;28mrange\u001b[39m(num_melodies):\n\u001b[1;32m     42\u001b[0m     melody \u001b[38;5;241m=\u001b[39m generate_random_melody(transition_matrices, values_list, length)\n\u001b[0;32m---> 43\u001b[0m     log_prob \u001b[38;5;241m=\u001b[39m \u001b[43mcalculate_log_prob\u001b[49m\u001b[43m(\u001b[49m\u001b[43mmelody\u001b[49m\u001b[43m,\u001b[49m\u001b[43m \u001b[49m\u001b[43mtransition_matrices\u001b[49m\u001b[43m,\u001b[49m\u001b[43m \u001b[49m\u001b[43mvalues_list\u001b[49m\u001b[43m)\u001b[49m\n\u001b[1;32m     45\u001b[0m     \u001b[38;5;66;03m# Si la probabilité est meilleure (log probabilité plus faible), on garde la mélodie\u001b[39;00m\n\u001b[1;32m     46\u001b[0m     \u001b[38;5;28;01mif\u001b[39;00m log_prob \u001b[38;5;241m<\u001b[39m best_log_prob:\n",
      "Cell \u001b[0;32mIn[80], line 14\u001b[0m, in \u001b[0;36mcalculate_log_prob\u001b[0;34m(melody, transition_matrices, values_list)\u001b[0m\n\u001b[1;32m     11\u001b[0m \u001b[38;5;28;01mfor\u001b[39;00m i \u001b[38;5;129;01min\u001b[39;00m \u001b[38;5;28mrange\u001b[39m(\u001b[38;5;241m1\u001b[39m, \u001b[38;5;28mlen\u001b[39m(melody)):\n\u001b[1;32m     12\u001b[0m     \u001b[38;5;66;03m# Transition de hauteur\u001b[39;00m\n\u001b[1;32m     13\u001b[0m     prev_height_idx \u001b[38;5;241m=\u001b[39m current_height_idx\n\u001b[0;32m---> 14\u001b[0m     current_height_idx \u001b[38;5;241m=\u001b[39m \u001b[43mvalues_list\u001b[49m\u001b[43m[\u001b[49m\u001b[38;5;241;43m0\u001b[39;49m\u001b[43m]\u001b[49m\u001b[38;5;241;43m.\u001b[39;49m\u001b[43mindex\u001b[49m\u001b[43m(\u001b[49m\u001b[43mmelody\u001b[49m\u001b[43m[\u001b[49m\u001b[43mi\u001b[49m\u001b[43m]\u001b[49m\u001b[38;5;241;43m.\u001b[39;49m\u001b[43mpitch\u001b[49m\u001b[43m)\u001b[49m\n\u001b[1;32m     15\u001b[0m     log_prob \u001b[38;5;241m+\u001b[39m\u001b[38;5;241m=\u001b[39m \u001b[38;5;241m-\u001b[39mnp\u001b[38;5;241m.\u001b[39mlog(transition_matrices[\u001b[38;5;241m0\u001b[39m][prev_height_idx, current_height_idx] \u001b[38;5;241m+\u001b[39m \u001b[38;5;241m1e-10\u001b[39m)  \u001b[38;5;66;03m# ajout d'un petit epsilon pour éviter les divisions par 0\u001b[39;00m\n\u001b[1;32m     17\u001b[0m     \u001b[38;5;66;03m# Transition de durée\u001b[39;00m\n",
      "\u001b[0;31mValueError\u001b[0m: 102 is not in list"
     ]
    }
   ],
   "source": [
    "# Fonction pour calculer la probabilité d'une séquence de notes\n",
    "def calculate_log_prob(melody, transition_matrices, values_list):\n",
    "    log_prob = 0.0\n",
    "\n",
    "    current_height_idx = values_list[0].index(melody[0].pitch)\n",
    "    current_duration_idx = values_list[1].index(melody[0].end - melody[0].start)\n",
    "    prev_interval_idx = 0\n",
    "    current_interval_idx = 0\n",
    "\n",
    "    # Calculer la probabilité de la séquence par sommation des log(p(x_i|x_(i-1)))\n",
    "    for i in range(1, len(melody)):\n",
    "        # Transition de hauteur\n",
    "        prev_height_idx = current_height_idx\n",
    "        current_height_idx = values_list[0].index(melody[i].pitch)\n",
    "        log_prob += -np.log(transition_matrices[0][prev_height_idx, current_height_idx] + 1e-10)  # ajout d'un petit epsilon pour éviter les divisions par 0\n",
    "        \n",
    "        # Transition de durée\n",
    "        prev_duration_idx = current_duration_idx\n",
    "        current_duration_idx = values_list[1].index(melody[i].end - melody[i].start)\n",
    "        log_prob += -np.log(transition_matrices[1][prev_duration_idx, current_duration_idx] + 1e-10)\n",
    "\n",
    "        interval = melody[i].pitch - melody[i-1].pitch\n",
    "        try:\n",
    "            prev_interval_idx = current_interval_idx\n",
    "            current_interval_idx = values_list[2].index(interval)\n",
    "        except ValueError:\n",
    "            # Si l'intervalle n'est pas dans la liste, ignorer ou choisir un intervalle proche\n",
    "            prev_interval_idx = current_interval_idx\n",
    "            closest_interval_idx = min(range(len(values_list[2])), key=lambda x: abs(values_list[2][x] - interval))\n",
    "            current_interval_idx = closest_interval_idx\n",
    "        \n",
    "        log_prob += -np.log(transition_matrices[2][prev_interval_idx, current_interval_idx] + 1e-10)\n",
    "    \n",
    "    return log_prob\n",
    "\n",
    "# Fonction pour générer plusieurs mélodies et choisir la plus probable\n",
    "def generate_best_melody(transition_matrices, values_list, num_melodies=1000, length=30):\n",
    "    best_melody = None\n",
    "    best_log_prob = float('inf')\n",
    "\n",
    "    for _ in range(num_melodies):\n",
    "        melody = generate_random_melody(transition_matrices, values_list, length)\n",
    "        log_prob = calculate_log_prob(melody, transition_matrices, values_list)\n",
    "        \n",
    "        # Si la probabilité est meilleure (log probabilité plus faible), on garde la mélodie\n",
    "        if log_prob < best_log_prob:\n",
    "            best_log_prob = log_prob\n",
    "            best_melody = melody\n",
    "    \n",
    "    return best_melody, best_log_prob\n",
    "\n",
    "best_melody, best_log_prob = generate_best_melody(\n",
    "    [height_transition_matrix, duration_transition_matrix, interval_transition_matrix],\n",
    "    values_list,\n",
    "    num_melodies=1000,\n",
    "    length=30\n",
    ")\n",
    "\n",
    "output_midi_path = 'Partie4/Best_Random_Melody_from_Transitions.mid'\n",
    "midi_out = MidiFile()\n",
    "instrument = Instrument(program=0)\n",
    "instrument.notes = best_melody\n",
    "midi_out.instruments.append(instrument)\n",
    "midi_out.dump(output_midi_path)\n",
    "print(f\"Fichier MIDI généré : {output_midi_path}\")\n",
    "print(f\"Log-probabilité de la meilleure mélodie : {best_log_prob}\")"
   ]
  },
  {
   "cell_type": "markdown",
   "metadata": {},
   "source": [
    "# Partie 5"
   ]
  },
  {
   "cell_type": "markdown",
   "metadata": {},
   "source": [
    "### Partie 5.1"
   ]
  },
  {
   "cell_type": "markdown",
   "metadata": {},
   "source": [
    "### Partie 5.2"
   ]
  },
  {
   "cell_type": "markdown",
   "metadata": {},
   "source": [
    "# Améliorations"
   ]
  },
  {
   "cell_type": "markdown",
   "metadata": {},
   "source": [
    "### Amélioration 1"
   ]
  },
  {
   "cell_type": "markdown",
   "metadata": {},
   "source": [
    "### Amélioration 2"
   ]
  },
  {
   "cell_type": "markdown",
   "metadata": {},
   "source": [
    "### Amélioration 3"
   ]
  }
 ],
 "metadata": {
  "kernelspec": {
   "display_name": "Python (venv)",
   "language": "python",
   "name": "nom_du_kernel"
  },
  "language_info": {
   "codemirror_mode": {
    "name": "ipython",
    "version": 3
   },
   "file_extension": ".py",
   "mimetype": "text/x-python",
   "name": "python",
   "nbconvert_exporter": "python",
   "pygments_lexer": "ipython3",
   "version": "3.12.3"
  }
 },
 "nbformat": 4,
 "nbformat_minor": 2
}
